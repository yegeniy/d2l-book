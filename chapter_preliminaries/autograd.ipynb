{
  "cells": [
    {
      "cell_type": "markdown",
      "metadata": {
        "id": "view-in-github",
        "colab_type": "text"
      },
      "source": [
        "<a href=\"https://colab.research.google.com/github/yegeniy/d2l-book/blob/master/chapter_preliminaries/autograd.ipynb\" target=\"_parent\"><img src=\"https://colab.research.google.com/assets/colab-badge.svg\" alt=\"Open In Colab\"/></a>"
      ]
    },
    {
      "cell_type": "markdown",
      "id": "4144c129",
      "metadata": {
        "origin_pos": 1,
        "id": "4144c129"
      },
      "source": [
        "# Automatic Differentiation\n",
        ":label:`sec_autograd`\n",
        "\n",
        "Recall from :numref:`sec_calculus`\n",
        "that calculating derivatives is the crucial step\n",
        "in all the optimization algorithms\n",
        "that we will use to train deep networks.\n",
        "While the calculations are straightforward,\n",
        "working them out by hand can be tedious and error-prone,\n",
        "and these issues only grow\n",
        "as our models become more complex.\n",
        "\n",
        "Fortunately all modern deep learning frameworks\n",
        "take this work off our plates\n",
        "by offering *automatic differentiation*\n",
        "(often shortened to *autograd*).\n",
        "As we pass data through each successive function,\n",
        "the framework builds a *computational graph*\n",
        "that tracks how each value depends on others.\n",
        "To calculate derivatives,\n",
        "automatic differentiation\n",
        "works backwards through this graph\n",
        "applying the chain rule.\n",
        "The computational algorithm for applying the chain rule\n",
        "in this fashion is called *backpropagation*.\n",
        "\n",
        "While autograd libraries have become\n",
        "a hot concern over the past decade,\n",
        "they have a long history.\n",
        "In fact the earliest references to autograd\n",
        "date back over half of a century :cite:`Wengert.1964`.\n",
        "The core ideas behind modern backpropagation\n",
        "date to a PhD thesis from 1980 :cite:`Speelpenning.1980`\n",
        "and were further developed in the late 1980s :cite:`Griewank.1989`.\n",
        "While backpropagation has become the default method\n",
        "for computing gradients, it is not the only option.\n",
        "For instance, the Julia programming language employs\n",
        "forward propagation :cite:`Revels.Lubin.Papamarkou.2016`.\n",
        "Before exploring methods,\n",
        "let's first master the autograd package.\n"
      ]
    },
    {
      "cell_type": "markdown",
      "metadata": {
        "id": "6ce0e4f7"
      },
      "source": [
        "We can use libraries like `torchviz` to visualize the computational graph. First, we need to install it."
      ],
      "id": "6ce0e4f7"
    },
    {
      "cell_type": "code",
      "source": [
        "import torch"
      ],
      "metadata": {
        "id": "vO1tGerx9ag3"
      },
      "id": "vO1tGerx9ag3",
      "execution_count": 2,
      "outputs": []
    },
    {
      "cell_type": "code",
      "metadata": {
        "colab": {
          "base_uri": "https://localhost:8080/"
        },
        "id": "08dfca3a",
        "outputId": "05c28b9c-c2a2-482e-ea3f-6ac19b67c9d7"
      },
      "source": [
        "!pip install torchviz"
      ],
      "id": "08dfca3a",
      "execution_count": 3,
      "outputs": [
        {
          "output_type": "stream",
          "name": "stdout",
          "text": [
            "Collecting torchviz\n",
            "  Downloading torchviz-0.0.3-py3-none-any.whl.metadata (2.1 kB)\n",
            "Requirement already satisfied: torch in /usr/local/lib/python3.12/dist-packages (from torchviz) (2.8.0+cu126)\n",
            "Requirement already satisfied: graphviz in /usr/local/lib/python3.12/dist-packages (from torchviz) (0.21)\n",
            "Requirement already satisfied: filelock in /usr/local/lib/python3.12/dist-packages (from torch->torchviz) (3.20.0)\n",
            "Requirement already satisfied: typing-extensions>=4.10.0 in /usr/local/lib/python3.12/dist-packages (from torch->torchviz) (4.15.0)\n",
            "Requirement already satisfied: setuptools in /usr/local/lib/python3.12/dist-packages (from torch->torchviz) (75.2.0)\n",
            "Requirement already satisfied: sympy>=1.13.3 in /usr/local/lib/python3.12/dist-packages (from torch->torchviz) (1.13.3)\n",
            "Requirement already satisfied: networkx in /usr/local/lib/python3.12/dist-packages (from torch->torchviz) (3.5)\n",
            "Requirement already satisfied: jinja2 in /usr/local/lib/python3.12/dist-packages (from torch->torchviz) (3.1.6)\n",
            "Requirement already satisfied: fsspec in /usr/local/lib/python3.12/dist-packages (from torch->torchviz) (2025.3.0)\n",
            "Requirement already satisfied: nvidia-cuda-nvrtc-cu12==12.6.77 in /usr/local/lib/python3.12/dist-packages (from torch->torchviz) (12.6.77)\n",
            "Requirement already satisfied: nvidia-cuda-runtime-cu12==12.6.77 in /usr/local/lib/python3.12/dist-packages (from torch->torchviz) (12.6.77)\n",
            "Requirement already satisfied: nvidia-cuda-cupti-cu12==12.6.80 in /usr/local/lib/python3.12/dist-packages (from torch->torchviz) (12.6.80)\n",
            "Requirement already satisfied: nvidia-cudnn-cu12==9.10.2.21 in /usr/local/lib/python3.12/dist-packages (from torch->torchviz) (9.10.2.21)\n",
            "Requirement already satisfied: nvidia-cublas-cu12==12.6.4.1 in /usr/local/lib/python3.12/dist-packages (from torch->torchviz) (12.6.4.1)\n",
            "Requirement already satisfied: nvidia-cufft-cu12==11.3.0.4 in /usr/local/lib/python3.12/dist-packages (from torch->torchviz) (11.3.0.4)\n",
            "Requirement already satisfied: nvidia-curand-cu12==10.3.7.77 in /usr/local/lib/python3.12/dist-packages (from torch->torchviz) (10.3.7.77)\n",
            "Requirement already satisfied: nvidia-cusolver-cu12==11.7.1.2 in /usr/local/lib/python3.12/dist-packages (from torch->torchviz) (11.7.1.2)\n",
            "Requirement already satisfied: nvidia-cusparse-cu12==12.5.4.2 in /usr/local/lib/python3.12/dist-packages (from torch->torchviz) (12.5.4.2)\n",
            "Requirement already satisfied: nvidia-cusparselt-cu12==0.7.1 in /usr/local/lib/python3.12/dist-packages (from torch->torchviz) (0.7.1)\n",
            "Requirement already satisfied: nvidia-nccl-cu12==2.27.3 in /usr/local/lib/python3.12/dist-packages (from torch->torchviz) (2.27.3)\n",
            "Requirement already satisfied: nvidia-nvtx-cu12==12.6.77 in /usr/local/lib/python3.12/dist-packages (from torch->torchviz) (12.6.77)\n",
            "Requirement already satisfied: nvidia-nvjitlink-cu12==12.6.85 in /usr/local/lib/python3.12/dist-packages (from torch->torchviz) (12.6.85)\n",
            "Requirement already satisfied: nvidia-cufile-cu12==1.11.1.6 in /usr/local/lib/python3.12/dist-packages (from torch->torchviz) (1.11.1.6)\n",
            "Requirement already satisfied: triton==3.4.0 in /usr/local/lib/python3.12/dist-packages (from torch->torchviz) (3.4.0)\n",
            "Requirement already satisfied: mpmath<1.4,>=1.1.0 in /usr/local/lib/python3.12/dist-packages (from sympy>=1.13.3->torch->torchviz) (1.3.0)\n",
            "Requirement already satisfied: MarkupSafe>=2.0 in /usr/local/lib/python3.12/dist-packages (from jinja2->torch->torchviz) (3.0.3)\n",
            "Downloading torchviz-0.0.3-py3-none-any.whl (5.7 kB)\n",
            "Installing collected packages: torchviz\n",
            "Successfully installed torchviz-0.0.3\n"
          ]
        }
      ]
    },
    {
      "cell_type": "markdown",
      "metadata": {
        "id": "e4d943af"
      },
      "source": [
        "Now let's generate a simple graph and visualize it."
      ],
      "id": "e4d943af"
    },
    {
      "cell_type": "code",
      "metadata": {
        "colab": {
          "base_uri": "https://localhost:8080/",
          "height": 455
        },
        "id": "18b17856",
        "outputId": "d4aa5a44-e628-4997-b91a-af76a9ab56ef"
      },
      "source": [
        "from torchviz import make_dot\n",
        "\n",
        "x = torch.tensor([1.0, 2.0, 3.0], requires_grad=True)\n",
        "y = x * 2*x\n",
        "z = y.sum()\n",
        "\n",
        "make_dot(z, params={'x': x})"
      ],
      "id": "18b17856",
      "execution_count": 4,
      "outputs": [
        {
          "output_type": "execute_result",
          "data": {
            "image/svg+xml": "<?xml version=\"1.0\" encoding=\"UTF-8\" standalone=\"no\"?>\n<!DOCTYPE svg PUBLIC \"-//W3C//DTD SVG 1.1//EN\"\n \"http://www.w3.org/Graphics/SVG/1.1/DTD/svg11.dtd\">\n<!-- Generated by graphviz version 2.43.0 (0)\n -->\n<!-- Title: %3 Pages: 1 -->\n<svg width=\"140pt\" height=\"325pt\"\n viewBox=\"0.00 0.00 140.00 325.00\" xmlns=\"http://www.w3.org/2000/svg\" xmlns:xlink=\"http://www.w3.org/1999/xlink\">\n<g id=\"graph0\" class=\"graph\" transform=\"scale(1 1) rotate(0) translate(4 321)\">\n<title>%3</title>\n<polygon fill=\"white\" stroke=\"transparent\" points=\"-4,4 -4,-321 136,-321 136,4 -4,4\"/>\n<!-- 138254382180832 -->\n<g id=\"node1\" class=\"node\">\n<title>138254382180832</title>\n<polygon fill=\"#caff70\" stroke=\"black\" points=\"77.5,-31 23.5,-31 23.5,0 77.5,0 77.5,-31\"/>\n<text text-anchor=\"middle\" x=\"50.5\" y=\"-7\" font-family=\"monospace\" font-size=\"10.00\"> ()</text>\n</g>\n<!-- 138254378708144 -->\n<g id=\"node2\" class=\"node\">\n<title>138254378708144</title>\n<polygon fill=\"lightgrey\" stroke=\"black\" points=\"95,-86 6,-86 6,-67 95,-67 95,-86\"/>\n<text text-anchor=\"middle\" x=\"50.5\" y=\"-74\" font-family=\"monospace\" font-size=\"10.00\">SumBackward0</text>\n</g>\n<!-- 138254378708144&#45;&gt;138254382180832 -->\n<g id=\"edge6\" class=\"edge\">\n<title>138254378708144&#45;&gt;138254382180832</title>\n<path fill=\"none\" stroke=\"black\" d=\"M50.5,-66.79C50.5,-60.07 50.5,-50.4 50.5,-41.34\"/>\n<polygon fill=\"black\" stroke=\"black\" points=\"54,-41.19 50.5,-31.19 47,-41.19 54,-41.19\"/>\n</g>\n<!-- 138254382311424 -->\n<g id=\"node3\" class=\"node\">\n<title>138254382311424</title>\n<polygon fill=\"lightgrey\" stroke=\"black\" points=\"95,-141 6,-141 6,-122 95,-122 95,-141\"/>\n<text text-anchor=\"middle\" x=\"50.5\" y=\"-129\" font-family=\"monospace\" font-size=\"10.00\">MulBackward0</text>\n</g>\n<!-- 138254382311424&#45;&gt;138254378708144 -->\n<g id=\"edge1\" class=\"edge\">\n<title>138254382311424&#45;&gt;138254378708144</title>\n<path fill=\"none\" stroke=\"black\" d=\"M50.5,-121.75C50.5,-114.8 50.5,-104.85 50.5,-96.13\"/>\n<polygon fill=\"black\" stroke=\"black\" points=\"54,-96.09 50.5,-86.09 47,-96.09 54,-96.09\"/>\n</g>\n<!-- 138254382406224 -->\n<g id=\"node4\" class=\"node\">\n<title>138254382406224</title>\n<polygon fill=\"lightgrey\" stroke=\"black\" points=\"132,-196 43,-196 43,-177 132,-177 132,-196\"/>\n<text text-anchor=\"middle\" x=\"87.5\" y=\"-184\" font-family=\"monospace\" font-size=\"10.00\">MulBackward0</text>\n</g>\n<!-- 138254382406224&#45;&gt;138254382311424 -->\n<g id=\"edge2\" class=\"edge\">\n<title>138254382406224&#45;&gt;138254382311424</title>\n<path fill=\"none\" stroke=\"black\" d=\"M81.39,-176.75C76.22,-169.34 68.65,-158.5 62.31,-149.41\"/>\n<polygon fill=\"black\" stroke=\"black\" points=\"65.09,-147.29 56.5,-141.09 59.35,-151.29 65.09,-147.29\"/>\n</g>\n<!-- 138254382406080 -->\n<g id=\"node5\" class=\"node\">\n<title>138254382406080</title>\n<polygon fill=\"lightgrey\" stroke=\"black\" points=\"101,-251 0,-251 0,-232 101,-232 101,-251\"/>\n<text text-anchor=\"middle\" x=\"50.5\" y=\"-239\" font-family=\"monospace\" font-size=\"10.00\">AccumulateGrad</text>\n</g>\n<!-- 138254382406080&#45;&gt;138254382311424 -->\n<g id=\"edge5\" class=\"edge\">\n<title>138254382406080&#45;&gt;138254382311424</title>\n<path fill=\"none\" stroke=\"black\" d=\"M46.39,-231.88C42.44,-223.09 36.76,-208.94 34.5,-196 31.79,-180.43 36.74,-163.03 41.84,-150.39\"/>\n<polygon fill=\"black\" stroke=\"black\" points=\"45.13,-151.6 45.98,-141.04 38.73,-148.76 45.13,-151.6\"/>\n</g>\n<!-- 138254382406080&#45;&gt;138254382406224 -->\n<g id=\"edge3\" class=\"edge\">\n<title>138254382406080&#45;&gt;138254382406224</title>\n<path fill=\"none\" stroke=\"black\" d=\"M56.61,-231.75C61.78,-224.34 69.35,-213.5 75.69,-204.41\"/>\n<polygon fill=\"black\" stroke=\"black\" points=\"78.65,-206.29 81.5,-196.09 72.91,-202.29 78.65,-206.29\"/>\n</g>\n<!-- 138254384066112 -->\n<g id=\"node6\" class=\"node\">\n<title>138254384066112</title>\n<polygon fill=\"lightblue\" stroke=\"black\" points=\"77.5,-317 23.5,-317 23.5,-287 77.5,-287 77.5,-317\"/>\n<text text-anchor=\"middle\" x=\"50.5\" y=\"-305\" font-family=\"monospace\" font-size=\"10.00\">x</text>\n<text text-anchor=\"middle\" x=\"50.5\" y=\"-294\" font-family=\"monospace\" font-size=\"10.00\"> (3)</text>\n</g>\n<!-- 138254384066112&#45;&gt;138254382406080 -->\n<g id=\"edge4\" class=\"edge\">\n<title>138254384066112&#45;&gt;138254382406080</title>\n<path fill=\"none\" stroke=\"black\" d=\"M50.5,-286.84C50.5,-279.21 50.5,-269.7 50.5,-261.45\"/>\n<polygon fill=\"black\" stroke=\"black\" points=\"54,-261.27 50.5,-251.27 47,-261.27 54,-261.27\"/>\n</g>\n</g>\n</svg>\n",
            "text/plain": [
              "<graphviz.graphs.Digraph at 0x7dbddb5a1970>"
            ]
          },
          "metadata": {},
          "execution_count": 4
        }
      ]
    },
    {
      "cell_type": "markdown",
      "metadata": {
        "id": "da11e4d8"
      },
      "source": [
        "This will generate a visual representation of the computational graph, showing how `z` depends on `x`."
      ],
      "id": "da11e4d8"
    },
    {
      "cell_type": "code",
      "execution_count": 4,
      "id": "130439cd",
      "metadata": {
        "execution": {
          "iopub.execute_input": "2023-08-18T19:26:08.286501Z",
          "iopub.status.busy": "2023-08-18T19:26:08.285693Z",
          "iopub.status.idle": "2023-08-18T19:26:10.052257Z",
          "shell.execute_reply": "2023-08-18T19:26:10.050994Z"
        },
        "origin_pos": 3,
        "tab": [
          "pytorch"
        ],
        "id": "130439cd"
      },
      "outputs": [],
      "source": [
        "import torch"
      ]
    },
    {
      "cell_type": "markdown",
      "id": "e2ab3850",
      "metadata": {
        "origin_pos": 6,
        "id": "e2ab3850"
      },
      "source": [
        "## A Simple Function\n",
        "\n",
        "Let's assume that we are interested\n",
        "in (**differentiating the function\n",
        "$y = 2\\mathbf{x}^{\\top}\\mathbf{x}$\n",
        "with respect to the column vector $\\mathbf{x}$.**)\n",
        "To start, we assign `x` an initial value.\n"
      ]
    },
    {
      "cell_type": "code",
      "execution_count": 5,
      "id": "4253cfab",
      "metadata": {
        "attributes": {
          "classes": [],
          "id": "",
          "n": "7"
        },
        "execution": {
          "iopub.execute_input": "2023-08-18T19:26:10.056833Z",
          "iopub.status.busy": "2023-08-18T19:26:10.055871Z",
          "iopub.status.idle": "2023-08-18T19:26:10.084858Z",
          "shell.execute_reply": "2023-08-18T19:26:10.083727Z"
        },
        "origin_pos": 8,
        "tab": [
          "pytorch"
        ],
        "colab": {
          "base_uri": "https://localhost:8080/"
        },
        "id": "4253cfab",
        "outputId": "54e0152f-a2e4-4f1e-df4b-8eb4d079f455"
      },
      "outputs": [
        {
          "output_type": "execute_result",
          "data": {
            "text/plain": [
              "tensor([0., 1., 2., 3.])"
            ]
          },
          "metadata": {},
          "execution_count": 5
        }
      ],
      "source": [
        "x = torch.arange(4.0)\n",
        "x"
      ]
    },
    {
      "cell_type": "markdown",
      "id": "e75614b0",
      "metadata": {
        "origin_pos": 11,
        "tab": [
          "pytorch"
        ],
        "id": "e75614b0"
      },
      "source": [
        "[**Before we calculate the gradient\n",
        "of $y$ with respect to $\\mathbf{x}$,\n",
        "we need a place to store it.**]\n",
        "In general, we avoid allocating new memory\n",
        "every time we take a derivative\n",
        "because deep learning requires\n",
        "successively computing derivatives\n",
        "with respect to the same parameters\n",
        "a great many times,\n",
        "and we might risk running out of memory.\n",
        "Note that the gradient of a scalar-valued function\n",
        "with respect to a vector $\\mathbf{x}$\n",
        "is vector-valued with\n",
        "the same shape as $\\mathbf{x}$.\n"
      ]
    },
    {
      "cell_type": "code",
      "execution_count": 6,
      "id": "2a001d1e",
      "metadata": {
        "attributes": {
          "classes": [],
          "id": "",
          "n": "9"
        },
        "execution": {
          "iopub.execute_input": "2023-08-18T19:26:10.088716Z",
          "iopub.status.busy": "2023-08-18T19:26:10.087816Z",
          "iopub.status.idle": "2023-08-18T19:26:10.092878Z",
          "shell.execute_reply": "2023-08-18T19:26:10.091740Z"
        },
        "origin_pos": 13,
        "tab": [
          "pytorch"
        ],
        "id": "2a001d1e"
      },
      "outputs": [],
      "source": [
        "# Can also create x = torch.arange(4.0, requires_grad=True)\n",
        "x.requires_grad_(True)\n",
        "x.grad  # The gradient is None by default"
      ]
    },
    {
      "cell_type": "markdown",
      "id": "2e74bc02",
      "metadata": {
        "origin_pos": 15,
        "id": "2e74bc02"
      },
      "source": [
        "(**We now calculate our function of `x` and assign the result to `y`.**)\n"
      ]
    },
    {
      "cell_type": "code",
      "execution_count": 7,
      "id": "6e3bd777",
      "metadata": {
        "attributes": {
          "classes": [],
          "id": "",
          "n": "11"
        },
        "execution": {
          "iopub.execute_input": "2023-08-18T19:26:10.096336Z",
          "iopub.status.busy": "2023-08-18T19:26:10.095772Z",
          "iopub.status.idle": "2023-08-18T19:26:10.105236Z",
          "shell.execute_reply": "2023-08-18T19:26:10.104075Z"
        },
        "origin_pos": 17,
        "tab": [
          "pytorch"
        ],
        "colab": {
          "base_uri": "https://localhost:8080/"
        },
        "id": "6e3bd777",
        "outputId": "ca179289-c28f-4a8a-d17f-30fd60fc5459"
      },
      "outputs": [
        {
          "output_type": "execute_result",
          "data": {
            "text/plain": [
              "tensor(28., grad_fn=<MulBackward0>)"
            ]
          },
          "metadata": {},
          "execution_count": 7
        }
      ],
      "source": [
        "y = 2 * torch.dot(x, x)\n",
        "y"
      ]
    },
    {
      "cell_type": "code",
      "source": [
        "x.grad, y.grad"
      ],
      "metadata": {
        "colab": {
          "base_uri": "https://localhost:8080/"
        },
        "id": "-lF9EC826p1I",
        "outputId": "d686f609-8045-4f17-f03b-d7dbbbea1b74"
      },
      "id": "-lF9EC826p1I",
      "execution_count": 8,
      "outputs": [
        {
          "output_type": "stream",
          "name": "stderr",
          "text": [
            "/tmp/ipython-input-2922900946.py:1: UserWarning: The .grad attribute of a Tensor that is not a leaf Tensor is being accessed. Its .grad attribute won't be populated during autograd.backward(). If you indeed want the .grad field to be populated for a non-leaf Tensor, use .retain_grad() on the non-leaf Tensor. If you access the non-leaf Tensor by mistake, make sure you access the leaf Tensor instead. See github.com/pytorch/pytorch/pull/30531 for more informations. (Triggered internally at /pytorch/build/aten/src/ATen/core/TensorBody.h:489.)\n",
            "  x.grad, y.grad\n"
          ]
        },
        {
          "output_type": "execute_result",
          "data": {
            "text/plain": [
              "(None, None)"
            ]
          },
          "metadata": {},
          "execution_count": 8
        }
      ]
    },
    {
      "cell_type": "markdown",
      "id": "c3067490",
      "metadata": {
        "origin_pos": 21,
        "tab": [
          "pytorch"
        ],
        "id": "c3067490"
      },
      "source": [
        "[**We can now take the gradient of `y`\n",
        "with respect to `x`**] by calling\n",
        "its `backward` method.\n",
        "Next, we can access the gradient\n",
        "via `x`'s `grad` attribute.\n"
      ]
    },
    {
      "cell_type": "code",
      "execution_count": 9,
      "id": "21b134ae",
      "metadata": {
        "attributes": {
          "classes": [],
          "id": "",
          "n": "12"
        },
        "execution": {
          "iopub.execute_input": "2023-08-18T19:26:10.108600Z",
          "iopub.status.busy": "2023-08-18T19:26:10.108011Z",
          "iopub.status.idle": "2023-08-18T19:26:10.160854Z",
          "shell.execute_reply": "2023-08-18T19:26:10.159702Z"
        },
        "origin_pos": 25,
        "tab": [
          "pytorch"
        ],
        "colab": {
          "base_uri": "https://localhost:8080/"
        },
        "id": "21b134ae",
        "outputId": "1eceff8a-916e-424c-f2a8-1e4f21b2e577"
      },
      "outputs": [
        {
          "output_type": "execute_result",
          "data": {
            "text/plain": [
              "tensor([ 0.,  4.,  8., 12.])"
            ]
          },
          "metadata": {},
          "execution_count": 9
        }
      ],
      "source": [
        "y.backward()\n",
        "x.grad"
      ]
    },
    {
      "cell_type": "code",
      "source": [
        "make_dot(y, params={'x': x})"
      ],
      "metadata": {
        "colab": {
          "base_uri": "https://localhost:8080/",
          "height": 382
        },
        "id": "4vWauYyS8JL8",
        "outputId": "2f4e117c-7d5a-4fb2-c19e-a9800162b05f"
      },
      "id": "4vWauYyS8JL8",
      "execution_count": 10,
      "outputs": [
        {
          "output_type": "execute_result",
          "data": {
            "image/svg+xml": "<?xml version=\"1.0\" encoding=\"UTF-8\" standalone=\"no\"?>\n<!DOCTYPE svg PUBLIC \"-//W3C//DTD SVG 1.1//EN\"\n \"http://www.w3.org/Graphics/SVG/1.1/DTD/svg11.dtd\">\n<!-- Generated by graphviz version 2.43.0 (0)\n -->\n<!-- Title: %3 Pages: 1 -->\n<svg width=\"109pt\" height=\"270pt\"\n viewBox=\"0.00 0.00 109.00 270.00\" xmlns=\"http://www.w3.org/2000/svg\" xmlns:xlink=\"http://www.w3.org/1999/xlink\">\n<g id=\"graph0\" class=\"graph\" transform=\"scale(1 1) rotate(0) translate(4 266)\">\n<title>%3</title>\n<polygon fill=\"white\" stroke=\"transparent\" points=\"-4,4 -4,-266 105,-266 105,4 -4,4\"/>\n<!-- 134061902335904 -->\n<g id=\"node1\" class=\"node\">\n<title>134061902335904</title>\n<polygon fill=\"#caff70\" stroke=\"black\" points=\"77.5,-31 23.5,-31 23.5,0 77.5,0 77.5,-31\"/>\n<text text-anchor=\"middle\" x=\"50.5\" y=\"-7\" font-family=\"monospace\" font-size=\"10.00\"> ()</text>\n</g>\n<!-- 134061927935296 -->\n<g id=\"node2\" class=\"node\">\n<title>134061927935296</title>\n<polygon fill=\"lightgrey\" stroke=\"black\" points=\"95,-86 6,-86 6,-67 95,-67 95,-86\"/>\n<text text-anchor=\"middle\" x=\"50.5\" y=\"-74\" font-family=\"monospace\" font-size=\"10.00\">MulBackward0</text>\n</g>\n<!-- 134061927935296&#45;&gt;134061902335904 -->\n<g id=\"edge5\" class=\"edge\">\n<title>134061927935296&#45;&gt;134061902335904</title>\n<path fill=\"none\" stroke=\"black\" d=\"M50.5,-66.79C50.5,-60.07 50.5,-50.4 50.5,-41.34\"/>\n<polygon fill=\"black\" stroke=\"black\" points=\"54,-41.19 50.5,-31.19 47,-41.19 54,-41.19\"/>\n</g>\n<!-- 134062713986048 -->\n<g id=\"node3\" class=\"node\">\n<title>134062713986048</title>\n<polygon fill=\"lightgrey\" stroke=\"black\" points=\"95,-141 6,-141 6,-122 95,-122 95,-141\"/>\n<text text-anchor=\"middle\" x=\"50.5\" y=\"-129\" font-family=\"monospace\" font-size=\"10.00\">DotBackward0</text>\n</g>\n<!-- 134062713986048&#45;&gt;134061927935296 -->\n<g id=\"edge1\" class=\"edge\">\n<title>134062713986048&#45;&gt;134061927935296</title>\n<path fill=\"none\" stroke=\"black\" d=\"M50.5,-121.75C50.5,-114.8 50.5,-104.85 50.5,-96.13\"/>\n<polygon fill=\"black\" stroke=\"black\" points=\"54,-96.09 50.5,-86.09 47,-96.09 54,-96.09\"/>\n</g>\n<!-- 134061913987904 -->\n<g id=\"node4\" class=\"node\">\n<title>134061913987904</title>\n<polygon fill=\"lightgrey\" stroke=\"black\" points=\"101,-196 0,-196 0,-177 101,-177 101,-196\"/>\n<text text-anchor=\"middle\" x=\"50.5\" y=\"-184\" font-family=\"monospace\" font-size=\"10.00\">AccumulateGrad</text>\n</g>\n<!-- 134061913987904&#45;&gt;134062713986048 -->\n<g id=\"edge2\" class=\"edge\">\n<title>134061913987904&#45;&gt;134062713986048</title>\n<path fill=\"none\" stroke=\"black\" d=\"M45.33,-176.75C43.84,-169.8 43.4,-159.85 44.02,-151.13\"/>\n<polygon fill=\"black\" stroke=\"black\" points=\"47.51,-151.47 45.37,-141.09 40.57,-150.53 47.51,-151.47\"/>\n</g>\n<!-- 134061913987904&#45;&gt;134062713986048 -->\n<g id=\"edge4\" class=\"edge\">\n<title>134061913987904&#45;&gt;134062713986048</title>\n<path fill=\"none\" stroke=\"black\" d=\"M55.67,-176.75C57.16,-169.8 57.6,-159.85 56.98,-151.13\"/>\n<polygon fill=\"black\" stroke=\"black\" points=\"60.43,-150.53 55.63,-141.09 53.49,-151.47 60.43,-150.53\"/>\n</g>\n<!-- 134061918351712 -->\n<g id=\"node5\" class=\"node\">\n<title>134061918351712</title>\n<polygon fill=\"lightblue\" stroke=\"black\" points=\"77.5,-262 23.5,-262 23.5,-232 77.5,-232 77.5,-262\"/>\n<text text-anchor=\"middle\" x=\"50.5\" y=\"-250\" font-family=\"monospace\" font-size=\"10.00\">x</text>\n<text text-anchor=\"middle\" x=\"50.5\" y=\"-239\" font-family=\"monospace\" font-size=\"10.00\"> (4)</text>\n</g>\n<!-- 134061918351712&#45;&gt;134061913987904 -->\n<g id=\"edge3\" class=\"edge\">\n<title>134061918351712&#45;&gt;134061913987904</title>\n<path fill=\"none\" stroke=\"black\" d=\"M50.5,-231.84C50.5,-224.21 50.5,-214.7 50.5,-206.45\"/>\n<polygon fill=\"black\" stroke=\"black\" points=\"54,-206.27 50.5,-196.27 47,-206.27 54,-206.27\"/>\n</g>\n</g>\n</svg>\n",
            "text/plain": [
              "<graphviz.graphs.Digraph at 0x79edb80de1e0>"
            ]
          },
          "metadata": {},
          "execution_count": 10
        }
      ]
    },
    {
      "cell_type": "markdown",
      "id": "17d1390b",
      "metadata": {
        "origin_pos": 28,
        "id": "17d1390b"
      },
      "source": [
        "(**We already know that the gradient of the function $y = 2\\mathbf{x}^{\\top}\\mathbf{x}$\n",
        "with respect to $\\mathbf{x}$ should be $4\\mathbf{x}$.**)\n",
        "We can now verify that the automatic gradient computation\n",
        "and the expected result are identical.\n"
      ]
    },
    {
      "cell_type": "code",
      "execution_count": 11,
      "id": "5030e37d",
      "metadata": {
        "attributes": {
          "classes": [],
          "id": "",
          "n": "14"
        },
        "execution": {
          "iopub.execute_input": "2023-08-18T19:26:10.164665Z",
          "iopub.status.busy": "2023-08-18T19:26:10.163930Z",
          "iopub.status.idle": "2023-08-18T19:26:10.171033Z",
          "shell.execute_reply": "2023-08-18T19:26:10.169923Z"
        },
        "origin_pos": 30,
        "tab": [
          "pytorch"
        ],
        "id": "5030e37d"
      },
      "outputs": [],
      "source": [
        "assert torch.equal(x.grad, 4 * x)"
      ]
    },
    {
      "cell_type": "markdown",
      "id": "da440e48",
      "metadata": {
        "origin_pos": 34,
        "tab": [
          "pytorch"
        ],
        "id": "da440e48"
      },
      "source": [
        "[**Now let's calculate\n",
        "another function of `x`\n",
        "and take its gradient.**]\n",
        "Note that PyTorch does not automatically\n",
        "reset the gradient buffer\n",
        "when we record a new gradient.\n",
        "Instead, the new gradient\n",
        "is added to the already-stored gradient.\n",
        "This behavior comes in handy\n",
        "when we want to optimize the sum\n",
        "of multiple objective functions.\n",
        "To reset the gradient buffer,\n",
        "we can call `x.grad.zero_()` as follows:\n"
      ]
    },
    {
      "cell_type": "code",
      "execution_count": 12,
      "id": "add5cf4b",
      "metadata": {
        "attributes": {
          "classes": [],
          "id": "",
          "n": "20"
        },
        "execution": {
          "iopub.execute_input": "2023-08-18T19:26:10.174691Z",
          "iopub.status.busy": "2023-08-18T19:26:10.173957Z",
          "iopub.status.idle": "2023-08-18T19:26:10.181847Z",
          "shell.execute_reply": "2023-08-18T19:26:10.180759Z"
        },
        "origin_pos": 37,
        "tab": [
          "pytorch"
        ],
        "id": "add5cf4b",
        "outputId": "2f931622-6360-487e-c66a-32229ab4aa7b",
        "colab": {
          "base_uri": "https://localhost:8080/"
        }
      },
      "outputs": [
        {
          "output_type": "execute_result",
          "data": {
            "text/plain": [
              "tensor([1., 1., 1., 1.])"
            ]
          },
          "metadata": {},
          "execution_count": 12
        }
      ],
      "source": [
        "x.grad.zero_()  # Reset the gradient\n",
        "y = x.sum()\n",
        "y.backward()\n",
        "x.grad"
      ]
    },
    {
      "cell_type": "markdown",
      "id": "8bdd4c0c",
      "metadata": {
        "origin_pos": 40,
        "id": "8bdd4c0c"
      },
      "source": [
        "## Backward for Non-Scalar Variables\n",
        "\n",
        "When `y` is a vector,\n",
        "the most natural representation\n",
        "of the derivative of  `y`\n",
        "with respect to a vector `x`\n",
        "is a matrix called the *Jacobian*\n",
        "that contains the partial derivatives\n",
        "of each component of `y`\n",
        "with respect to each component of `x`.\n",
        "Likewise, for higher-order `y` and `x`,\n",
        "the result of differentiation could be an even higher-order tensor.\n",
        "\n",
        "While Jacobians do show up in some\n",
        "advanced machine learning techniques,\n",
        "more commonly we want to sum up\n",
        "the gradients of each component of `y`\n",
        "with respect to the full vector `x`,\n",
        "yielding a vector of the same shape as `x`.\n",
        "For example, we often have a vector\n",
        "representing the value of our loss function\n",
        "calculated separately for each example among\n",
        "a *batch* of training examples.\n",
        "Here, we just want to (**sum up the gradients\n",
        "computed individually for each example**).\n"
      ]
    },
    {
      "cell_type": "markdown",
      "id": "9dda7124",
      "metadata": {
        "origin_pos": 42,
        "tab": [
          "pytorch"
        ],
        "id": "9dda7124"
      },
      "source": [
        "Because deep learning frameworks vary\n",
        "in how they interpret gradients of\n",
        "non-scalar tensors,\n",
        "PyTorch takes some steps to avoid confusion.\n",
        "Invoking `backward` on a non-scalar elicits an error\n",
        "unless we tell PyTorch how to reduce the object to a scalar.\n",
        "More formally, we need to provide some vector $\\mathbf{v}$\n",
        "such that `backward` will compute\n",
        "$\\mathbf{v}^\\top \\partial_{\\mathbf{x}} \\mathbf{y}$\n",
        "rather than $\\partial_{\\mathbf{x}} \\mathbf{y}$.\n",
        "This next part may be confusing,\n",
        "but for reasons that will become clear later,\n",
        "this argument (representing $\\mathbf{v}$) is named `gradient`.\n",
        "For a more detailed description, see Yang Zhang's\n",
        "[Medium post](https://zhang-yang.medium.com/the-gradient-argument-in-pytorchs-backward-function-explained-by-examples-68f266950c29).\n"
      ]
    },
    {
      "cell_type": "code",
      "execution_count": 13,
      "id": "1baa40bd",
      "metadata": {
        "execution": {
          "iopub.execute_input": "2023-08-18T19:26:10.185096Z",
          "iopub.status.busy": "2023-08-18T19:26:10.184685Z",
          "iopub.status.idle": "2023-08-18T19:26:10.192537Z",
          "shell.execute_reply": "2023-08-18T19:26:10.191435Z"
        },
        "origin_pos": 45,
        "tab": [
          "pytorch"
        ],
        "id": "1baa40bd",
        "outputId": "722fe9fc-186d-4f8e-db11-d3be19152a0f",
        "colab": {
          "base_uri": "https://localhost:8080/"
        }
      },
      "outputs": [
        {
          "output_type": "execute_result",
          "data": {
            "text/plain": [
              "tensor([0., 2., 4., 6.])"
            ]
          },
          "metadata": {},
          "execution_count": 13
        }
      ],
      "source": [
        "x.grad.zero_()\n",
        "y = x * x\n",
        "y.backward(gradient=torch.ones(len(y)))  # Faster: y.sum().backward()\n",
        "x.grad"
      ]
    },
    {
      "cell_type": "markdown",
      "id": "ffbd2c9d",
      "metadata": {
        "origin_pos": 48,
        "id": "ffbd2c9d"
      },
      "source": [
        "## Detaching Computation\n",
        "\n",
        "Sometimes, we wish to [**move some calculations\n",
        "outside of the recorded computational graph.**]\n",
        "For example, say that we use the input\n",
        "to create some auxiliary intermediate terms\n",
        "for which we do not want to compute a gradient.\n",
        "In this case, we need to *detach*\n",
        "the respective computational graph\n",
        "from the final result.\n",
        "The following toy example makes this clearer:\n",
        "suppose we have `z = x * y` and `y = x * x`\n",
        "but we want to focus on the *direct* influence of `x` on `z`\n",
        "rather than the influence conveyed via `y`.\n",
        "In this case, we can create a new variable `u`\n",
        "that takes the same value as `y`\n",
        "but whose *provenance* (how it was created)\n",
        "has been wiped out.\n",
        "Thus `u` has no ancestors in the graph\n",
        "and gradients do not flow through `u` to `x`.\n",
        "For example, taking the gradient of `z = x * u`\n",
        "will yield the result `u`,\n",
        "(not `3 * x * x` as you might have\n",
        "expected since `z = x * x * x`).\n"
      ]
    },
    {
      "cell_type": "code",
      "source": [
        "x"
      ],
      "metadata": {
        "colab": {
          "base_uri": "https://localhost:8080/"
        },
        "id": "G25uUZkGbvwT",
        "outputId": "a0e19fdf-1dcf-4bf7-ca6f-9e9b4d92131d"
      },
      "id": "G25uUZkGbvwT",
      "execution_count": 14,
      "outputs": [
        {
          "output_type": "execute_result",
          "data": {
            "text/plain": [
              "tensor([0., 1., 2., 3.], requires_grad=True)"
            ]
          },
          "metadata": {},
          "execution_count": 14
        }
      ]
    },
    {
      "cell_type": "code",
      "execution_count": 15,
      "id": "107ac041",
      "metadata": {
        "attributes": {
          "classes": [],
          "id": "",
          "n": "21"
        },
        "execution": {
          "iopub.execute_input": "2023-08-18T19:26:10.196001Z",
          "iopub.status.busy": "2023-08-18T19:26:10.195456Z",
          "iopub.status.idle": "2023-08-18T19:26:10.203246Z",
          "shell.execute_reply": "2023-08-18T19:26:10.202155Z"
        },
        "origin_pos": 50,
        "tab": [
          "pytorch"
        ],
        "id": "107ac041",
        "outputId": "06befaca-a07a-485a-9b90-13105d32a65d",
        "colab": {
          "base_uri": "https://localhost:8080/"
        }
      },
      "outputs": [
        {
          "output_type": "execute_result",
          "data": {
            "text/plain": [
              "tensor([True, True, True, True])"
            ]
          },
          "metadata": {},
          "execution_count": 15
        }
      ],
      "source": [
        "x.grad.zero_()\n",
        "y = x * x\n",
        "u = y.detach()\n",
        "z = u * x\n",
        "\n",
        "z.sum().backward()\n",
        "x.grad == u"
      ]
    },
    {
      "cell_type": "markdown",
      "id": "e0378e1f",
      "metadata": {
        "origin_pos": 53,
        "id": "e0378e1f"
      },
      "source": [
        "Note that while this procedure\n",
        "detaches `y`'s ancestors\n",
        "from the graph leading to `z`,\n",
        "the computational graph leading to `y`\n",
        "persists and thus we can calculate\n",
        "the gradient of `y` with respect to `x`.\n"
      ]
    },
    {
      "cell_type": "code",
      "execution_count": 16,
      "id": "cb8c674b",
      "metadata": {
        "execution": {
          "iopub.execute_input": "2023-08-18T19:26:10.206880Z",
          "iopub.status.busy": "2023-08-18T19:26:10.206001Z",
          "iopub.status.idle": "2023-08-18T19:26:10.213592Z",
          "shell.execute_reply": "2023-08-18T19:26:10.212476Z"
        },
        "origin_pos": 55,
        "tab": [
          "pytorch"
        ],
        "id": "cb8c674b",
        "outputId": "f982aeb3-0e3c-4a5c-a3c6-9d3baea0cae6",
        "colab": {
          "base_uri": "https://localhost:8080/"
        }
      },
      "outputs": [
        {
          "output_type": "execute_result",
          "data": {
            "text/plain": [
              "tensor([True, True, True, True])"
            ]
          },
          "metadata": {},
          "execution_count": 16
        }
      ],
      "source": [
        "x.grad.zero_()\n",
        "y.sum().backward()\n",
        "x.grad == 2 * x"
      ]
    },
    {
      "cell_type": "markdown",
      "id": "76f056ce",
      "metadata": {
        "origin_pos": 58,
        "id": "76f056ce"
      },
      "source": [
        "## Gradients and Python Control Flow\n",
        "\n",
        "So far we reviewed cases where the path from input to output\n",
        "was well defined via a function such as `z = x * x * x`.\n",
        "Programming offers us a lot more freedom in how we compute results.\n",
        "For instance, we can make them depend on auxiliary variables\n",
        "or condition choices on intermediate results.\n",
        "One benefit of using automatic differentiation\n",
        "is that [**even if**] building the computational graph of\n",
        "(**a function required passing through a maze of Python control flow**)\n",
        "(e.g., conditionals, loops, and arbitrary function calls),\n",
        "(**we can still calculate the gradient of the resulting variable.**)\n",
        "To illustrate this, consider the following code snippet where\n",
        "the number of iterations of the `while` loop\n",
        "and the evaluation of the `if` statement\n",
        "both depend on the value of the input `a`.\n"
      ]
    },
    {
      "cell_type": "code",
      "execution_count": 24,
      "id": "a83327c2",
      "metadata": {
        "execution": {
          "iopub.execute_input": "2023-08-18T19:26:10.218214Z",
          "iopub.status.busy": "2023-08-18T19:26:10.217554Z",
          "iopub.status.idle": "2023-08-18T19:26:10.222956Z",
          "shell.execute_reply": "2023-08-18T19:26:10.221858Z"
        },
        "origin_pos": 60,
        "tab": [
          "pytorch"
        ],
        "id": "a83327c2"
      },
      "outputs": [],
      "source": [
        "def f(a):\n",
        "    b = a * 2\n",
        "    while b.norm() < 1000:\n",
        "        b = b * 2\n",
        "    if b.sum() > 0:\n",
        "        c = b\n",
        "    else:\n",
        "        c = 100 * b\n",
        "    return c"
      ]
    },
    {
      "cell_type": "markdown",
      "id": "189f6785",
      "metadata": {
        "origin_pos": 63,
        "id": "189f6785"
      },
      "source": [
        "Below, we call this function, passing in a random value, as input.\n",
        "Since the input is a random variable,\n",
        "we do not know what form\n",
        "the computational graph will take.\n",
        "However, whenever we execute `f(a)`\n",
        "on a specific input, we realize\n",
        "a specific computational graph\n",
        "and can subsequently run `backward`.\n"
      ]
    },
    {
      "cell_type": "code",
      "execution_count": 25,
      "id": "c5ef0264",
      "metadata": {
        "execution": {
          "iopub.execute_input": "2023-08-18T19:26:10.227364Z",
          "iopub.status.busy": "2023-08-18T19:26:10.226919Z",
          "iopub.status.idle": "2023-08-18T19:26:10.232880Z",
          "shell.execute_reply": "2023-08-18T19:26:10.231773Z"
        },
        "origin_pos": 65,
        "tab": [
          "pytorch"
        ],
        "id": "c5ef0264"
      },
      "outputs": [],
      "source": [
        "a = torch.randn(size=(), requires_grad=True)\n",
        "d = f(a)\n",
        "d.backward()"
      ]
    },
    {
      "cell_type": "code",
      "source": [
        "make_dot(d, params={'a': a})"
      ],
      "metadata": {
        "collapsed": true,
        "colab": {
          "base_uri": "https://localhost:8080/",
          "height": 1000
        },
        "id": "gUg_A_efrSAx",
        "outputId": "aff37731-00cf-42eb-eaae-b98904b03c30"
      },
      "id": "gUg_A_efrSAx",
      "execution_count": 28,
      "outputs": [
        {
          "output_type": "execute_result",
          "data": {
            "image/svg+xml": "<?xml version=\"1.0\" encoding=\"UTF-8\" standalone=\"no\"?>\n<!DOCTYPE svg PUBLIC \"-//W3C//DTD SVG 1.1//EN\"\n \"http://www.w3.org/Graphics/SVG/1.1/DTD/svg11.dtd\">\n<!-- Generated by graphviz version 2.43.0 (0)\n -->\n<!-- Title: %3 Pages: 1 -->\n<svg width=\"108pt\" height=\"864pt\"\n viewBox=\"0.00 0.00 107.63 864.00\" xmlns=\"http://www.w3.org/2000/svg\" xmlns:xlink=\"http://www.w3.org/1999/xlink\">\n<g id=\"graph0\" class=\"graph\" transform=\"scale(0.99 0.99) rotate(0) translate(4 871)\">\n<title>%3</title>\n<polygon fill=\"white\" stroke=\"transparent\" points=\"-4,4 -4,-871 105,-871 105,4 -4,4\"/>\n<!-- 134061551196576 -->\n<g id=\"node1\" class=\"node\">\n<title>134061551196576</title>\n<polygon fill=\"#caff70\" stroke=\"black\" points=\"77.5,-31 23.5,-31 23.5,0 77.5,0 77.5,-31\"/>\n<text text-anchor=\"middle\" x=\"50.5\" y=\"-7\" font-family=\"monospace\" font-size=\"10.00\"> ()</text>\n</g>\n<!-- 134061566231984 -->\n<g id=\"node2\" class=\"node\">\n<title>134061566231984</title>\n<polygon fill=\"lightgrey\" stroke=\"black\" points=\"95,-86 6,-86 6,-67 95,-67 95,-86\"/>\n<text text-anchor=\"middle\" x=\"50.5\" y=\"-74\" font-family=\"monospace\" font-size=\"10.00\">MulBackward0</text>\n</g>\n<!-- 134061566231984&#45;&gt;134061551196576 -->\n<g id=\"edge15\" class=\"edge\">\n<title>134061566231984&#45;&gt;134061551196576</title>\n<path fill=\"none\" stroke=\"black\" d=\"M50.5,-66.79C50.5,-60.07 50.5,-50.4 50.5,-41.34\"/>\n<polygon fill=\"black\" stroke=\"black\" points=\"54,-41.19 50.5,-31.19 47,-41.19 54,-41.19\"/>\n</g>\n<!-- 134061566236304 -->\n<g id=\"node3\" class=\"node\">\n<title>134061566236304</title>\n<polygon fill=\"lightgrey\" stroke=\"black\" points=\"95,-141 6,-141 6,-122 95,-122 95,-141\"/>\n<text text-anchor=\"middle\" x=\"50.5\" y=\"-129\" font-family=\"monospace\" font-size=\"10.00\">MulBackward0</text>\n</g>\n<!-- 134061566236304&#45;&gt;134061566231984 -->\n<g id=\"edge1\" class=\"edge\">\n<title>134061566236304&#45;&gt;134061566231984</title>\n<path fill=\"none\" stroke=\"black\" d=\"M50.5,-121.75C50.5,-114.8 50.5,-104.85 50.5,-96.13\"/>\n<polygon fill=\"black\" stroke=\"black\" points=\"54,-96.09 50.5,-86.09 47,-96.09 54,-96.09\"/>\n</g>\n<!-- 134061566234288 -->\n<g id=\"node4\" class=\"node\">\n<title>134061566234288</title>\n<polygon fill=\"lightgrey\" stroke=\"black\" points=\"95,-196 6,-196 6,-177 95,-177 95,-196\"/>\n<text text-anchor=\"middle\" x=\"50.5\" y=\"-184\" font-family=\"monospace\" font-size=\"10.00\">MulBackward0</text>\n</g>\n<!-- 134061566234288&#45;&gt;134061566236304 -->\n<g id=\"edge2\" class=\"edge\">\n<title>134061566234288&#45;&gt;134061566236304</title>\n<path fill=\"none\" stroke=\"black\" d=\"M50.5,-176.75C50.5,-169.8 50.5,-159.85 50.5,-151.13\"/>\n<polygon fill=\"black\" stroke=\"black\" points=\"54,-151.09 50.5,-141.09 47,-151.09 54,-151.09\"/>\n</g>\n<!-- 134061566235632 -->\n<g id=\"node5\" class=\"node\">\n<title>134061566235632</title>\n<polygon fill=\"lightgrey\" stroke=\"black\" points=\"95,-251 6,-251 6,-232 95,-232 95,-251\"/>\n<text text-anchor=\"middle\" x=\"50.5\" y=\"-239\" font-family=\"monospace\" font-size=\"10.00\">MulBackward0</text>\n</g>\n<!-- 134061566235632&#45;&gt;134061566234288 -->\n<g id=\"edge3\" class=\"edge\">\n<title>134061566235632&#45;&gt;134061566234288</title>\n<path fill=\"none\" stroke=\"black\" d=\"M50.5,-231.75C50.5,-224.8 50.5,-214.85 50.5,-206.13\"/>\n<polygon fill=\"black\" stroke=\"black\" points=\"54,-206.09 50.5,-196.09 47,-206.09 54,-206.09\"/>\n</g>\n<!-- 134061566230928 -->\n<g id=\"node6\" class=\"node\">\n<title>134061566230928</title>\n<polygon fill=\"lightgrey\" stroke=\"black\" points=\"95,-306 6,-306 6,-287 95,-287 95,-306\"/>\n<text text-anchor=\"middle\" x=\"50.5\" y=\"-294\" font-family=\"monospace\" font-size=\"10.00\">MulBackward0</text>\n</g>\n<!-- 134061566230928&#45;&gt;134061566235632 -->\n<g id=\"edge4\" class=\"edge\">\n<title>134061566230928&#45;&gt;134061566235632</title>\n<path fill=\"none\" stroke=\"black\" d=\"M50.5,-286.75C50.5,-279.8 50.5,-269.85 50.5,-261.13\"/>\n<polygon fill=\"black\" stroke=\"black\" points=\"54,-261.09 50.5,-251.09 47,-261.09 54,-261.09\"/>\n</g>\n<!-- 134061566235056 -->\n<g id=\"node7\" class=\"node\">\n<title>134061566235056</title>\n<polygon fill=\"lightgrey\" stroke=\"black\" points=\"95,-361 6,-361 6,-342 95,-342 95,-361\"/>\n<text text-anchor=\"middle\" x=\"50.5\" y=\"-349\" font-family=\"monospace\" font-size=\"10.00\">MulBackward0</text>\n</g>\n<!-- 134061566235056&#45;&gt;134061566230928 -->\n<g id=\"edge5\" class=\"edge\">\n<title>134061566235056&#45;&gt;134061566230928</title>\n<path fill=\"none\" stroke=\"black\" d=\"M50.5,-341.75C50.5,-334.8 50.5,-324.85 50.5,-316.13\"/>\n<polygon fill=\"black\" stroke=\"black\" points=\"54,-316.09 50.5,-306.09 47,-316.09 54,-316.09\"/>\n</g>\n<!-- 134061566231120 -->\n<g id=\"node8\" class=\"node\">\n<title>134061566231120</title>\n<polygon fill=\"lightgrey\" stroke=\"black\" points=\"95,-416 6,-416 6,-397 95,-397 95,-416\"/>\n<text text-anchor=\"middle\" x=\"50.5\" y=\"-404\" font-family=\"monospace\" font-size=\"10.00\">MulBackward0</text>\n</g>\n<!-- 134061566231120&#45;&gt;134061566235056 -->\n<g id=\"edge6\" class=\"edge\">\n<title>134061566231120&#45;&gt;134061566235056</title>\n<path fill=\"none\" stroke=\"black\" d=\"M50.5,-396.75C50.5,-389.8 50.5,-379.85 50.5,-371.13\"/>\n<polygon fill=\"black\" stroke=\"black\" points=\"54,-371.09 50.5,-361.09 47,-371.09 54,-371.09\"/>\n</g>\n<!-- 134061566232224 -->\n<g id=\"node9\" class=\"node\">\n<title>134061566232224</title>\n<polygon fill=\"lightgrey\" stroke=\"black\" points=\"95,-471 6,-471 6,-452 95,-452 95,-471\"/>\n<text text-anchor=\"middle\" x=\"50.5\" y=\"-459\" font-family=\"monospace\" font-size=\"10.00\">MulBackward0</text>\n</g>\n<!-- 134061566232224&#45;&gt;134061566231120 -->\n<g id=\"edge7\" class=\"edge\">\n<title>134061566232224&#45;&gt;134061566231120</title>\n<path fill=\"none\" stroke=\"black\" d=\"M50.5,-451.75C50.5,-444.8 50.5,-434.85 50.5,-426.13\"/>\n<polygon fill=\"black\" stroke=\"black\" points=\"54,-426.09 50.5,-416.09 47,-426.09 54,-426.09\"/>\n</g>\n<!-- 134061566232704 -->\n<g id=\"node10\" class=\"node\">\n<title>134061566232704</title>\n<polygon fill=\"lightgrey\" stroke=\"black\" points=\"95,-526 6,-526 6,-507 95,-507 95,-526\"/>\n<text text-anchor=\"middle\" x=\"50.5\" y=\"-514\" font-family=\"monospace\" font-size=\"10.00\">MulBackward0</text>\n</g>\n<!-- 134061566232704&#45;&gt;134061566232224 -->\n<g id=\"edge8\" class=\"edge\">\n<title>134061566232704&#45;&gt;134061566232224</title>\n<path fill=\"none\" stroke=\"black\" d=\"M50.5,-506.75C50.5,-499.8 50.5,-489.85 50.5,-481.13\"/>\n<polygon fill=\"black\" stroke=\"black\" points=\"54,-481.09 50.5,-471.09 47,-481.09 54,-481.09\"/>\n</g>\n<!-- 134061566234000 -->\n<g id=\"node11\" class=\"node\">\n<title>134061566234000</title>\n<polygon fill=\"lightgrey\" stroke=\"black\" points=\"95,-581 6,-581 6,-562 95,-562 95,-581\"/>\n<text text-anchor=\"middle\" x=\"50.5\" y=\"-569\" font-family=\"monospace\" font-size=\"10.00\">MulBackward0</text>\n</g>\n<!-- 134061566234000&#45;&gt;134061566232704 -->\n<g id=\"edge9\" class=\"edge\">\n<title>134061566234000&#45;&gt;134061566232704</title>\n<path fill=\"none\" stroke=\"black\" d=\"M50.5,-561.75C50.5,-554.8 50.5,-544.85 50.5,-536.13\"/>\n<polygon fill=\"black\" stroke=\"black\" points=\"54,-536.09 50.5,-526.09 47,-536.09 54,-536.09\"/>\n</g>\n<!-- 134061566233808 -->\n<g id=\"node12\" class=\"node\">\n<title>134061566233808</title>\n<polygon fill=\"lightgrey\" stroke=\"black\" points=\"95,-636 6,-636 6,-617 95,-617 95,-636\"/>\n<text text-anchor=\"middle\" x=\"50.5\" y=\"-624\" font-family=\"monospace\" font-size=\"10.00\">MulBackward0</text>\n</g>\n<!-- 134061566233808&#45;&gt;134061566234000 -->\n<g id=\"edge10\" class=\"edge\">\n<title>134061566233808&#45;&gt;134061566234000</title>\n<path fill=\"none\" stroke=\"black\" d=\"M50.5,-616.75C50.5,-609.8 50.5,-599.85 50.5,-591.13\"/>\n<polygon fill=\"black\" stroke=\"black\" points=\"54,-591.09 50.5,-581.09 47,-591.09 54,-591.09\"/>\n</g>\n<!-- 134061566230640 -->\n<g id=\"node13\" class=\"node\">\n<title>134061566230640</title>\n<polygon fill=\"lightgrey\" stroke=\"black\" points=\"95,-691 6,-691 6,-672 95,-672 95,-691\"/>\n<text text-anchor=\"middle\" x=\"50.5\" y=\"-679\" font-family=\"monospace\" font-size=\"10.00\">MulBackward0</text>\n</g>\n<!-- 134061566230640&#45;&gt;134061566233808 -->\n<g id=\"edge11\" class=\"edge\">\n<title>134061566230640&#45;&gt;134061566233808</title>\n<path fill=\"none\" stroke=\"black\" d=\"M50.5,-671.75C50.5,-664.8 50.5,-654.85 50.5,-646.13\"/>\n<polygon fill=\"black\" stroke=\"black\" points=\"54,-646.09 50.5,-636.09 47,-646.09 54,-646.09\"/>\n</g>\n<!-- 134061566231744 -->\n<g id=\"node14\" class=\"node\">\n<title>134061566231744</title>\n<polygon fill=\"lightgrey\" stroke=\"black\" points=\"95,-746 6,-746 6,-727 95,-727 95,-746\"/>\n<text text-anchor=\"middle\" x=\"50.5\" y=\"-734\" font-family=\"monospace\" font-size=\"10.00\">MulBackward0</text>\n</g>\n<!-- 134061566231744&#45;&gt;134061566230640 -->\n<g id=\"edge12\" class=\"edge\">\n<title>134061566231744&#45;&gt;134061566230640</title>\n<path fill=\"none\" stroke=\"black\" d=\"M50.5,-726.75C50.5,-719.8 50.5,-709.85 50.5,-701.13\"/>\n<polygon fill=\"black\" stroke=\"black\" points=\"54,-701.09 50.5,-691.09 47,-701.09 54,-701.09\"/>\n</g>\n<!-- 134061566231792 -->\n<g id=\"node15\" class=\"node\">\n<title>134061566231792</title>\n<polygon fill=\"lightgrey\" stroke=\"black\" points=\"101,-801 0,-801 0,-782 101,-782 101,-801\"/>\n<text text-anchor=\"middle\" x=\"50.5\" y=\"-789\" font-family=\"monospace\" font-size=\"10.00\">AccumulateGrad</text>\n</g>\n<!-- 134061566231792&#45;&gt;134061566231744 -->\n<g id=\"edge13\" class=\"edge\">\n<title>134061566231792&#45;&gt;134061566231744</title>\n<path fill=\"none\" stroke=\"black\" d=\"M50.5,-781.75C50.5,-774.8 50.5,-764.85 50.5,-756.13\"/>\n<polygon fill=\"black\" stroke=\"black\" points=\"54,-756.09 50.5,-746.09 47,-756.09 54,-756.09\"/>\n</g>\n<!-- 134061551273776 -->\n<g id=\"node16\" class=\"node\">\n<title>134061551273776</title>\n<polygon fill=\"lightblue\" stroke=\"black\" points=\"77.5,-867 23.5,-867 23.5,-837 77.5,-837 77.5,-867\"/>\n<text text-anchor=\"middle\" x=\"50.5\" y=\"-855\" font-family=\"monospace\" font-size=\"10.00\">a</text>\n<text text-anchor=\"middle\" x=\"50.5\" y=\"-844\" font-family=\"monospace\" font-size=\"10.00\"> ()</text>\n</g>\n<!-- 134061551273776&#45;&gt;134061566231792 -->\n<g id=\"edge14\" class=\"edge\">\n<title>134061551273776&#45;&gt;134061566231792</title>\n<path fill=\"none\" stroke=\"black\" d=\"M50.5,-836.84C50.5,-829.21 50.5,-819.7 50.5,-811.45\"/>\n<polygon fill=\"black\" stroke=\"black\" points=\"54,-811.27 50.5,-801.27 47,-811.27 54,-811.27\"/>\n</g>\n</g>\n</svg>\n",
            "text/plain": [
              "<graphviz.graphs.Digraph at 0x79eda40883e0>"
            ]
          },
          "metadata": {},
          "execution_count": 28
        }
      ]
    },
    {
      "cell_type": "markdown",
      "id": "51065133",
      "metadata": {
        "origin_pos": 68,
        "id": "51065133"
      },
      "source": [
        "Even though our function `f` is, for demonstration purposes, a bit contrived,\n",
        "its dependence on the input is quite simple:\n",
        "it is a *linear* function of `a`\n",
        "with piecewise defined scale.\n",
        "As such, `f(a) / a` is a vector of constant entries\n",
        "and, moreover, `f(a) / a` needs to match\n",
        "the gradient of `f(a)` with respect to `a`.\n"
      ]
    },
    {
      "cell_type": "code",
      "execution_count": null,
      "id": "ab14ef91",
      "metadata": {
        "execution": {
          "iopub.execute_input": "2023-08-18T19:26:10.237298Z",
          "iopub.status.busy": "2023-08-18T19:26:10.236886Z",
          "iopub.status.idle": "2023-08-18T19:26:10.243577Z",
          "shell.execute_reply": "2023-08-18T19:26:10.242480Z"
        },
        "origin_pos": 70,
        "tab": [
          "pytorch"
        ],
        "id": "ab14ef91",
        "outputId": "0efabb1b-62f4-46d1-9347-a5fa79b69519"
      },
      "outputs": [
        {
          "data": {
            "text/plain": [
              "tensor(True)"
            ]
          },
          "execution_count": 13,
          "metadata": {},
          "output_type": "execute_result"
        }
      ],
      "source": [
        "a.grad == d / a"
      ]
    },
    {
      "cell_type": "code",
      "source": [
        "print(f\"{a=}\")\n",
        "print(f\"{d=}\")\n",
        "print(f\"{d/a=}\")\n",
        "print(f\"{a.grad=}\")"
      ],
      "metadata": {
        "colab": {
          "base_uri": "https://localhost:8080/"
        },
        "id": "TRWoDkfVr0ZU",
        "outputId": "e5ac17ae-afce-4b85-9ee8-c1a65b2ea4d9"
      },
      "id": "TRWoDkfVr0ZU",
      "execution_count": 30,
      "outputs": [
        {
          "output_type": "stream",
          "name": "stdout",
          "text": [
            "a=tensor(-0.3714, requires_grad=True)\n",
            "d=tensor(-152116.5312, grad_fn=<MulBackward0>)\n",
            "d/a=tensor(409600., grad_fn=<DivBackward0>)\n",
            "a.grad=tensor(409600.)\n"
          ]
        }
      ]
    },
    {
      "cell_type": "markdown",
      "id": "a992f28c",
      "metadata": {
        "origin_pos": 73,
        "id": "a992f28c"
      },
      "source": [
        "Dynamic control flow is very common in deep learning.\n",
        "For instance, when processing text, the computational graph\n",
        "depends on the length of the input.\n",
        "In these cases, automatic differentiation\n",
        "becomes vital for statistical modeling\n",
        "since it is impossible to compute the gradient *a priori*.\n",
        "\n",
        "## Discussion\n",
        "\n",
        "You have now gotten a taste of the power of automatic differentiation.\n",
        "The development of libraries for calculating derivatives\n",
        "both automatically and efficiently\n",
        "has been a massive productivity booster\n",
        "for deep learning practitioners,\n",
        "liberating them so they can focus on less menial.\n",
        "Moreover, autograd lets us design massive models\n",
        "for which pen and paper gradient computations\n",
        "would be prohibitively time consuming.\n",
        "Interestingly, while we use autograd to *optimize* models\n",
        "(in a statistical sense)\n",
        "the *optimization* of autograd libraries themselves\n",
        "(in a computational sense)\n",
        "is a rich subject\n",
        "of vital interest to framework designers.\n",
        "Here, tools from compilers and graph manipulation\n",
        "are leveraged to compute results\n",
        "in the most expedient and memory-efficient manner.\n",
        "\n",
        "For now, try to remember these basics: (i) attach gradients to those variables with respect to which we desire derivatives; (ii) record the computation of the target value; (iii) execute the backpropagation function; and  (iv) access the resulting gradient.\n",
        "\n",
        "\n",
        "## Exercises\n",
        "\n",
        "1. Why is the second derivative much more expensive to compute than the first derivative?\n",
        "1. After running the function for backpropagation, immediately run it again and see what happens. Investigate.\n",
        "1. In the control flow example where we calculate the derivative of `d` with respect to `a`, what would happen if we changed the variable `a` to a random vector or a matrix? At this point, the result of the calculation `f(a)` is no longer a scalar. What happens to the result? How do we analyze this?\n",
        "1. Let $f(x) = \\sin(x)$. Plot the graph of $f$ and of its derivative $f'$. Do not exploit the fact that $f'(x) = \\cos(x)$ but rather use automatic differentiation to get the result.\n",
        "1. Let $f(x) = ((\\log x^2) \\cdot \\sin x) + x^{-1}$. Write out a dependency graph tracing results from $x$ to $f(x)$.\n",
        "1. Use the chain rule to compute the derivative $\\frac{df}{dx}$ of the aforementioned function, placing each term on the dependency graph that you constructed previously.\n",
        "1. Given the graph and the intermediate derivative results, you have a number of options when computing the gradient. Evaluate the result once starting from $x$ to $f$ and once from $f$ tracing back to $x$. The path from $x$ to $f$ is commonly known as *forward differentiation*, whereas the path from $f$ to $x$ is known as backward differentiation.\n",
        "1. When might you want to use forward, and when backward, differentiation? Hint: consider the amount of intermediate data needed, the ability to parallelize steps, and the size of matrices and vectors involved.\n"
      ]
    },
    {
      "cell_type": "markdown",
      "source": [
        "### 1. Why is the second derivative much more expensive to compute than the first derivative?\n"
      ],
      "metadata": {
        "id": "sysnR76G-hax"
      },
      "id": "sysnR76G-hax"
    },
    {
      "cell_type": "markdown",
      "source": [
        "There is one immediate problem one encounters when working with higher order derivatives of functions of several variables, and that is there are a large number of them.  If we have a function $f(x_1, \\ldots, x_n)$ of $n$ variables, then we can take $n^{2}$ many second derivatives, namely for any choice of $i$ and $j$:\n",
        "\n",
        "$$\n",
        "\\frac{d^2f}{dx_idx_j} = \\frac{d}{dx_i}\\left(\\frac{d}{dx_j}f\\right).\n",
        "$$\n",
        "\n"
      ],
      "metadata": {
        "id": "QODv4zkbAlg8"
      },
      "id": "QODv4zkbAlg8"
    },
    {
      "cell_type": "markdown",
      "source": [
        "### 1. After running the function for backpropagation, immediately run it again and see what happens. Investigate.\n"
      ],
      "metadata": {
        "id": "UtvamIAt-uGG"
      },
      "id": "UtvamIAt-uGG"
    },
    {
      "cell_type": "code",
      "source": [
        "def f(a):\n",
        "    b = a * 2\n",
        "    while b.norm() < 1000:\n",
        "        b = b * 2\n",
        "    if b.sum() > 0:\n",
        "        c = b\n",
        "    else:\n",
        "        c = 100 * b\n",
        "    return c\n",
        "a = torch.randn(size=(), requires_grad=True)\n",
        "d = f(a)\n",
        "d.backward()\n",
        "make_dot(d, params={'a': a})"
      ],
      "metadata": {
        "colab": {
          "base_uri": "https://localhost:8080/",
          "height": 1000
        },
        "id": "Y7RSKxRHAzCv",
        "outputId": "2cd76355-4d4a-46f9-8345-7594c2ce4f95"
      },
      "id": "Y7RSKxRHAzCv",
      "execution_count": 6,
      "outputs": [
        {
          "output_type": "execute_result",
          "data": {
            "image/svg+xml": "<?xml version=\"1.0\" encoding=\"UTF-8\" standalone=\"no\"?>\n<!DOCTYPE svg PUBLIC \"-//W3C//DTD SVG 1.1//EN\"\n \"http://www.w3.org/Graphics/SVG/1.1/DTD/svg11.dtd\">\n<!-- Generated by graphviz version 2.43.0 (0)\n -->\n<!-- Title: %3 Pages: 1 -->\n<svg width=\"109pt\" height=\"765pt\"\n viewBox=\"0.00 0.00 109.00 765.00\" xmlns=\"http://www.w3.org/2000/svg\" xmlns:xlink=\"http://www.w3.org/1999/xlink\">\n<g id=\"graph0\" class=\"graph\" transform=\"scale(1 1) rotate(0) translate(4 761)\">\n<title>%3</title>\n<polygon fill=\"white\" stroke=\"transparent\" points=\"-4,4 -4,-761 105,-761 105,4 -4,4\"/>\n<!-- 138258183590912 -->\n<g id=\"node1\" class=\"node\">\n<title>138258183590912</title>\n<polygon fill=\"#caff70\" stroke=\"black\" points=\"77.5,-31 23.5,-31 23.5,0 77.5,0 77.5,-31\"/>\n<text text-anchor=\"middle\" x=\"50.5\" y=\"-7\" font-family=\"monospace\" font-size=\"10.00\"> ()</text>\n</g>\n<!-- 138254382410496 -->\n<g id=\"node2\" class=\"node\">\n<title>138254382410496</title>\n<polygon fill=\"lightgrey\" stroke=\"black\" points=\"95,-86 6,-86 6,-67 95,-67 95,-86\"/>\n<text text-anchor=\"middle\" x=\"50.5\" y=\"-74\" font-family=\"monospace\" font-size=\"10.00\">MulBackward0</text>\n</g>\n<!-- 138254382410496&#45;&gt;138258183590912 -->\n<g id=\"edge13\" class=\"edge\">\n<title>138254382410496&#45;&gt;138258183590912</title>\n<path fill=\"none\" stroke=\"black\" d=\"M50.5,-66.79C50.5,-60.07 50.5,-50.4 50.5,-41.34\"/>\n<polygon fill=\"black\" stroke=\"black\" points=\"54,-41.19 50.5,-31.19 47,-41.19 54,-41.19\"/>\n</g>\n<!-- 138254382407184 -->\n<g id=\"node3\" class=\"node\">\n<title>138254382407184</title>\n<polygon fill=\"lightgrey\" stroke=\"black\" points=\"95,-141 6,-141 6,-122 95,-122 95,-141\"/>\n<text text-anchor=\"middle\" x=\"50.5\" y=\"-129\" font-family=\"monospace\" font-size=\"10.00\">MulBackward0</text>\n</g>\n<!-- 138254382407184&#45;&gt;138254382410496 -->\n<g id=\"edge1\" class=\"edge\">\n<title>138254382407184&#45;&gt;138254382410496</title>\n<path fill=\"none\" stroke=\"black\" d=\"M50.5,-121.75C50.5,-114.8 50.5,-104.85 50.5,-96.13\"/>\n<polygon fill=\"black\" stroke=\"black\" points=\"54,-96.09 50.5,-86.09 47,-96.09 54,-96.09\"/>\n</g>\n<!-- 138254382408000 -->\n<g id=\"node4\" class=\"node\">\n<title>138254382408000</title>\n<polygon fill=\"lightgrey\" stroke=\"black\" points=\"95,-196 6,-196 6,-177 95,-177 95,-196\"/>\n<text text-anchor=\"middle\" x=\"50.5\" y=\"-184\" font-family=\"monospace\" font-size=\"10.00\">MulBackward0</text>\n</g>\n<!-- 138254382408000&#45;&gt;138254382407184 -->\n<g id=\"edge2\" class=\"edge\">\n<title>138254382408000&#45;&gt;138254382407184</title>\n<path fill=\"none\" stroke=\"black\" d=\"M50.5,-176.75C50.5,-169.8 50.5,-159.85 50.5,-151.13\"/>\n<polygon fill=\"black\" stroke=\"black\" points=\"54,-151.09 50.5,-141.09 47,-151.09 54,-151.09\"/>\n</g>\n<!-- 138254382409776 -->\n<g id=\"node5\" class=\"node\">\n<title>138254382409776</title>\n<polygon fill=\"lightgrey\" stroke=\"black\" points=\"95,-251 6,-251 6,-232 95,-232 95,-251\"/>\n<text text-anchor=\"middle\" x=\"50.5\" y=\"-239\" font-family=\"monospace\" font-size=\"10.00\">MulBackward0</text>\n</g>\n<!-- 138254382409776&#45;&gt;138254382408000 -->\n<g id=\"edge3\" class=\"edge\">\n<title>138254382409776&#45;&gt;138254382408000</title>\n<path fill=\"none\" stroke=\"black\" d=\"M50.5,-231.75C50.5,-224.8 50.5,-214.85 50.5,-206.13\"/>\n<polygon fill=\"black\" stroke=\"black\" points=\"54,-206.09 50.5,-196.09 47,-206.09 54,-206.09\"/>\n</g>\n<!-- 138254382409824 -->\n<g id=\"node6\" class=\"node\">\n<title>138254382409824</title>\n<polygon fill=\"lightgrey\" stroke=\"black\" points=\"95,-306 6,-306 6,-287 95,-287 95,-306\"/>\n<text text-anchor=\"middle\" x=\"50.5\" y=\"-294\" font-family=\"monospace\" font-size=\"10.00\">MulBackward0</text>\n</g>\n<!-- 138254382409824&#45;&gt;138254382409776 -->\n<g id=\"edge4\" class=\"edge\">\n<title>138254382409824&#45;&gt;138254382409776</title>\n<path fill=\"none\" stroke=\"black\" d=\"M50.5,-286.75C50.5,-279.8 50.5,-269.85 50.5,-261.13\"/>\n<polygon fill=\"black\" stroke=\"black\" points=\"54,-261.09 50.5,-251.09 47,-261.09 54,-261.09\"/>\n</g>\n<!-- 138254382406608 -->\n<g id=\"node7\" class=\"node\">\n<title>138254382406608</title>\n<polygon fill=\"lightgrey\" stroke=\"black\" points=\"95,-361 6,-361 6,-342 95,-342 95,-361\"/>\n<text text-anchor=\"middle\" x=\"50.5\" y=\"-349\" font-family=\"monospace\" font-size=\"10.00\">MulBackward0</text>\n</g>\n<!-- 138254382406608&#45;&gt;138254382409824 -->\n<g id=\"edge5\" class=\"edge\">\n<title>138254382406608&#45;&gt;138254382409824</title>\n<path fill=\"none\" stroke=\"black\" d=\"M50.5,-341.75C50.5,-334.8 50.5,-324.85 50.5,-316.13\"/>\n<polygon fill=\"black\" stroke=\"black\" points=\"54,-316.09 50.5,-306.09 47,-316.09 54,-316.09\"/>\n</g>\n<!-- 138254382400272 -->\n<g id=\"node8\" class=\"node\">\n<title>138254382400272</title>\n<polygon fill=\"lightgrey\" stroke=\"black\" points=\"95,-416 6,-416 6,-397 95,-397 95,-416\"/>\n<text text-anchor=\"middle\" x=\"50.5\" y=\"-404\" font-family=\"monospace\" font-size=\"10.00\">MulBackward0</text>\n</g>\n<!-- 138254382400272&#45;&gt;138254382406608 -->\n<g id=\"edge6\" class=\"edge\">\n<title>138254382400272&#45;&gt;138254382406608</title>\n<path fill=\"none\" stroke=\"black\" d=\"M50.5,-396.75C50.5,-389.8 50.5,-379.85 50.5,-371.13\"/>\n<polygon fill=\"black\" stroke=\"black\" points=\"54,-371.09 50.5,-361.09 47,-371.09 54,-371.09\"/>\n</g>\n<!-- 138254382410448 -->\n<g id=\"node9\" class=\"node\">\n<title>138254382410448</title>\n<polygon fill=\"lightgrey\" stroke=\"black\" points=\"95,-471 6,-471 6,-452 95,-452 95,-471\"/>\n<text text-anchor=\"middle\" x=\"50.5\" y=\"-459\" font-family=\"monospace\" font-size=\"10.00\">MulBackward0</text>\n</g>\n<!-- 138254382410448&#45;&gt;138254382400272 -->\n<g id=\"edge7\" class=\"edge\">\n<title>138254382410448&#45;&gt;138254382400272</title>\n<path fill=\"none\" stroke=\"black\" d=\"M50.5,-451.75C50.5,-444.8 50.5,-434.85 50.5,-426.13\"/>\n<polygon fill=\"black\" stroke=\"black\" points=\"54,-426.09 50.5,-416.09 47,-426.09 54,-426.09\"/>\n</g>\n<!-- 138258192136752 -->\n<g id=\"node10\" class=\"node\">\n<title>138258192136752</title>\n<polygon fill=\"lightgrey\" stroke=\"black\" points=\"95,-526 6,-526 6,-507 95,-507 95,-526\"/>\n<text text-anchor=\"middle\" x=\"50.5\" y=\"-514\" font-family=\"monospace\" font-size=\"10.00\">MulBackward0</text>\n</g>\n<!-- 138258192136752&#45;&gt;138254382410448 -->\n<g id=\"edge8\" class=\"edge\">\n<title>138258192136752&#45;&gt;138254382410448</title>\n<path fill=\"none\" stroke=\"black\" d=\"M50.5,-506.75C50.5,-499.8 50.5,-489.85 50.5,-481.13\"/>\n<polygon fill=\"black\" stroke=\"black\" points=\"54,-481.09 50.5,-471.09 47,-481.09 54,-481.09\"/>\n</g>\n<!-- 138254396392544 -->\n<g id=\"node11\" class=\"node\">\n<title>138254396392544</title>\n<polygon fill=\"lightgrey\" stroke=\"black\" points=\"95,-581 6,-581 6,-562 95,-562 95,-581\"/>\n<text text-anchor=\"middle\" x=\"50.5\" y=\"-569\" font-family=\"monospace\" font-size=\"10.00\">MulBackward0</text>\n</g>\n<!-- 138254396392544&#45;&gt;138258192136752 -->\n<g id=\"edge9\" class=\"edge\">\n<title>138254396392544&#45;&gt;138258192136752</title>\n<path fill=\"none\" stroke=\"black\" d=\"M50.5,-561.75C50.5,-554.8 50.5,-544.85 50.5,-536.13\"/>\n<polygon fill=\"black\" stroke=\"black\" points=\"54,-536.09 50.5,-526.09 47,-536.09 54,-536.09\"/>\n</g>\n<!-- 138254378708144 -->\n<g id=\"node12\" class=\"node\">\n<title>138254378708144</title>\n<polygon fill=\"lightgrey\" stroke=\"black\" points=\"95,-636 6,-636 6,-617 95,-617 95,-636\"/>\n<text text-anchor=\"middle\" x=\"50.5\" y=\"-624\" font-family=\"monospace\" font-size=\"10.00\">MulBackward0</text>\n</g>\n<!-- 138254378708144&#45;&gt;138254396392544 -->\n<g id=\"edge10\" class=\"edge\">\n<title>138254378708144&#45;&gt;138254396392544</title>\n<path fill=\"none\" stroke=\"black\" d=\"M50.5,-616.75C50.5,-609.8 50.5,-599.85 50.5,-591.13\"/>\n<polygon fill=\"black\" stroke=\"black\" points=\"54,-591.09 50.5,-581.09 47,-591.09 54,-591.09\"/>\n</g>\n<!-- 138254382311424 -->\n<g id=\"node13\" class=\"node\">\n<title>138254382311424</title>\n<polygon fill=\"lightgrey\" stroke=\"black\" points=\"101,-691 0,-691 0,-672 101,-672 101,-691\"/>\n<text text-anchor=\"middle\" x=\"50.5\" y=\"-679\" font-family=\"monospace\" font-size=\"10.00\">AccumulateGrad</text>\n</g>\n<!-- 138254382311424&#45;&gt;138254378708144 -->\n<g id=\"edge11\" class=\"edge\">\n<title>138254382311424&#45;&gt;138254378708144</title>\n<path fill=\"none\" stroke=\"black\" d=\"M50.5,-671.75C50.5,-664.8 50.5,-654.85 50.5,-646.13\"/>\n<polygon fill=\"black\" stroke=\"black\" points=\"54,-646.09 50.5,-636.09 47,-646.09 54,-646.09\"/>\n</g>\n<!-- 138254384206048 -->\n<g id=\"node14\" class=\"node\">\n<title>138254384206048</title>\n<polygon fill=\"lightblue\" stroke=\"black\" points=\"77.5,-757 23.5,-757 23.5,-727 77.5,-727 77.5,-757\"/>\n<text text-anchor=\"middle\" x=\"50.5\" y=\"-745\" font-family=\"monospace\" font-size=\"10.00\">a</text>\n<text text-anchor=\"middle\" x=\"50.5\" y=\"-734\" font-family=\"monospace\" font-size=\"10.00\"> ()</text>\n</g>\n<!-- 138254384206048&#45;&gt;138254382311424 -->\n<g id=\"edge12\" class=\"edge\">\n<title>138254384206048&#45;&gt;138254382311424</title>\n<path fill=\"none\" stroke=\"black\" d=\"M50.5,-726.84C50.5,-719.21 50.5,-709.7 50.5,-701.45\"/>\n<polygon fill=\"black\" stroke=\"black\" points=\"54,-701.27 50.5,-691.27 47,-701.27 54,-701.27\"/>\n</g>\n</g>\n</svg>\n",
            "text/plain": [
              "<graphviz.graphs.Digraph at 0x7dbddb5a28a0>"
            ]
          },
          "metadata": {},
          "execution_count": 6
        }
      ]
    },
    {
      "cell_type": "code",
      "source": [
        "d.backward()"
      ],
      "metadata": {
        "colab": {
          "base_uri": "https://localhost:8080/",
          "height": 355
        },
        "id": "JjNI94ECA0WI",
        "outputId": "f297acf7-74b2-4fd7-a23e-6029034732af"
      },
      "id": "JjNI94ECA0WI",
      "execution_count": 7,
      "outputs": [
        {
          "output_type": "error",
          "ename": "RuntimeError",
          "evalue": "Trying to backward through the graph a second time (or directly access saved tensors after they have already been freed). Saved intermediate values of the graph are freed when you call .backward() or autograd.grad(). Specify retain_graph=True if you need to backward through the graph a second time or if you need to access saved tensors after calling backward.",
          "traceback": [
            "\u001b[0;31m---------------------------------------------------------------------------\u001b[0m",
            "\u001b[0;31mRuntimeError\u001b[0m                              Traceback (most recent call last)",
            "\u001b[0;32m/tmp/ipython-input-608206150.py\u001b[0m in \u001b[0;36m<cell line: 0>\u001b[0;34m()\u001b[0m\n\u001b[0;32m----> 1\u001b[0;31m \u001b[0md\u001b[0m\u001b[0;34m.\u001b[0m\u001b[0mbackward\u001b[0m\u001b[0;34m(\u001b[0m\u001b[0;34m)\u001b[0m\u001b[0;34m\u001b[0m\u001b[0;34m\u001b[0m\u001b[0m\n\u001b[0m",
            "\u001b[0;32m/usr/local/lib/python3.12/dist-packages/torch/_tensor.py\u001b[0m in \u001b[0;36mbackward\u001b[0;34m(self, gradient, retain_graph, create_graph, inputs)\u001b[0m\n\u001b[1;32m    645\u001b[0m                 \u001b[0minputs\u001b[0m\u001b[0;34m=\u001b[0m\u001b[0minputs\u001b[0m\u001b[0;34m,\u001b[0m\u001b[0;34m\u001b[0m\u001b[0;34m\u001b[0m\u001b[0m\n\u001b[1;32m    646\u001b[0m             )\n\u001b[0;32m--> 647\u001b[0;31m         torch.autograd.backward(\n\u001b[0m\u001b[1;32m    648\u001b[0m             \u001b[0mself\u001b[0m\u001b[0;34m,\u001b[0m \u001b[0mgradient\u001b[0m\u001b[0;34m,\u001b[0m \u001b[0mretain_graph\u001b[0m\u001b[0;34m,\u001b[0m \u001b[0mcreate_graph\u001b[0m\u001b[0;34m,\u001b[0m \u001b[0minputs\u001b[0m\u001b[0;34m=\u001b[0m\u001b[0minputs\u001b[0m\u001b[0;34m\u001b[0m\u001b[0;34m\u001b[0m\u001b[0m\n\u001b[1;32m    649\u001b[0m         )\n",
            "\u001b[0;32m/usr/local/lib/python3.12/dist-packages/torch/autograd/__init__.py\u001b[0m in \u001b[0;36mbackward\u001b[0;34m(tensors, grad_tensors, retain_graph, create_graph, grad_variables, inputs)\u001b[0m\n\u001b[1;32m    352\u001b[0m     \u001b[0;31m# some Python versions print out the first line of a multi-line function\u001b[0m\u001b[0;34m\u001b[0m\u001b[0;34m\u001b[0m\u001b[0m\n\u001b[1;32m    353\u001b[0m     \u001b[0;31m# calls in the traceback and some print out the last line\u001b[0m\u001b[0;34m\u001b[0m\u001b[0;34m\u001b[0m\u001b[0m\n\u001b[0;32m--> 354\u001b[0;31m     _engine_run_backward(\n\u001b[0m\u001b[1;32m    355\u001b[0m         \u001b[0mtensors\u001b[0m\u001b[0;34m,\u001b[0m\u001b[0;34m\u001b[0m\u001b[0;34m\u001b[0m\u001b[0m\n\u001b[1;32m    356\u001b[0m         \u001b[0mgrad_tensors_\u001b[0m\u001b[0;34m,\u001b[0m\u001b[0;34m\u001b[0m\u001b[0;34m\u001b[0m\u001b[0m\n",
            "\u001b[0;32m/usr/local/lib/python3.12/dist-packages/torch/autograd/graph.py\u001b[0m in \u001b[0;36m_engine_run_backward\u001b[0;34m(t_outputs, *args, **kwargs)\u001b[0m\n\u001b[1;32m    827\u001b[0m         \u001b[0munregister_hooks\u001b[0m \u001b[0;34m=\u001b[0m \u001b[0m_register_logging_hooks_on_whole_graph\u001b[0m\u001b[0;34m(\u001b[0m\u001b[0mt_outputs\u001b[0m\u001b[0;34m)\u001b[0m\u001b[0;34m\u001b[0m\u001b[0;34m\u001b[0m\u001b[0m\n\u001b[1;32m    828\u001b[0m     \u001b[0;32mtry\u001b[0m\u001b[0;34m:\u001b[0m\u001b[0;34m\u001b[0m\u001b[0;34m\u001b[0m\u001b[0m\n\u001b[0;32m--> 829\u001b[0;31m         return Variable._execution_engine.run_backward(  # Calls into the C++ engine to run the backward pass\n\u001b[0m\u001b[1;32m    830\u001b[0m             \u001b[0mt_outputs\u001b[0m\u001b[0;34m,\u001b[0m \u001b[0;34m*\u001b[0m\u001b[0margs\u001b[0m\u001b[0;34m,\u001b[0m \u001b[0;34m**\u001b[0m\u001b[0mkwargs\u001b[0m\u001b[0;34m\u001b[0m\u001b[0;34m\u001b[0m\u001b[0m\n\u001b[1;32m    831\u001b[0m         )  # Calls into the C++ engine to run the backward pass\n",
            "\u001b[0;31mRuntimeError\u001b[0m: Trying to backward through the graph a second time (or directly access saved tensors after they have already been freed). Saved intermediate values of the graph are freed when you call .backward() or autograd.grad(). Specify retain_graph=True if you need to backward through the graph a second time or if you need to access saved tensors after calling backward."
          ]
        }
      ]
    },
    {
      "cell_type": "code",
      "source": [
        "def f(a):\n",
        "    b = a * 2\n",
        "    while b.norm() < 1000:\n",
        "        b = b * 2\n",
        "    if b.sum() > 0:\n",
        "        c = b\n",
        "    else:\n",
        "        c = 100 * b\n",
        "    return c\n",
        "a = torch.randn(size=(), requires_grad=True)\n",
        "d = f(a)\n",
        "d.backward(retain_graph=True)\n",
        "make_dot(d, params={'a': a})"
      ],
      "metadata": {
        "colab": {
          "base_uri": "https://localhost:8080/",
          "height": 1000
        },
        "id": "7RPLLsplBIxU",
        "outputId": "5c747a44-f9b1-46d9-c7fc-37d23f288208"
      },
      "id": "7RPLLsplBIxU",
      "execution_count": 11,
      "outputs": [
        {
          "output_type": "execute_result",
          "data": {
            "image/svg+xml": "<?xml version=\"1.0\" encoding=\"UTF-8\" standalone=\"no\"?>\n<!DOCTYPE svg PUBLIC \"-//W3C//DTD SVG 1.1//EN\"\n \"http://www.w3.org/Graphics/SVG/1.1/DTD/svg11.dtd\">\n<!-- Generated by graphviz version 2.43.0 (0)\n -->\n<!-- Title: %3 Pages: 1 -->\n<svg width=\"109pt\" height=\"765pt\"\n viewBox=\"0.00 0.00 109.00 765.00\" xmlns=\"http://www.w3.org/2000/svg\" xmlns:xlink=\"http://www.w3.org/1999/xlink\">\n<g id=\"graph0\" class=\"graph\" transform=\"scale(1 1) rotate(0) translate(4 761)\">\n<title>%3</title>\n<polygon fill=\"white\" stroke=\"transparent\" points=\"-4,4 -4,-761 105,-761 105,4 -4,4\"/>\n<!-- 138258218053904 -->\n<g id=\"node1\" class=\"node\">\n<title>138258218053904</title>\n<polygon fill=\"#caff70\" stroke=\"black\" points=\"77.5,-31 23.5,-31 23.5,0 77.5,0 77.5,-31\"/>\n<text text-anchor=\"middle\" x=\"50.5\" y=\"-7\" font-family=\"monospace\" font-size=\"10.00\"> ()</text>\n</g>\n<!-- 138254382410928 -->\n<g id=\"node2\" class=\"node\">\n<title>138254382410928</title>\n<polygon fill=\"lightgrey\" stroke=\"black\" points=\"95,-86 6,-86 6,-67 95,-67 95,-86\"/>\n<text text-anchor=\"middle\" x=\"50.5\" y=\"-74\" font-family=\"monospace\" font-size=\"10.00\">MulBackward0</text>\n</g>\n<!-- 138254382410928&#45;&gt;138258218053904 -->\n<g id=\"edge13\" class=\"edge\">\n<title>138254382410928&#45;&gt;138258218053904</title>\n<path fill=\"none\" stroke=\"black\" d=\"M50.5,-66.79C50.5,-60.07 50.5,-50.4 50.5,-41.34\"/>\n<polygon fill=\"black\" stroke=\"black\" points=\"54,-41.19 50.5,-31.19 47,-41.19 54,-41.19\"/>\n</g>\n<!-- 138254382228352 -->\n<g id=\"node3\" class=\"node\">\n<title>138254382228352</title>\n<polygon fill=\"lightgrey\" stroke=\"black\" points=\"95,-141 6,-141 6,-122 95,-122 95,-141\"/>\n<text text-anchor=\"middle\" x=\"50.5\" y=\"-129\" font-family=\"monospace\" font-size=\"10.00\">MulBackward0</text>\n</g>\n<!-- 138254382228352&#45;&gt;138254382410928 -->\n<g id=\"edge1\" class=\"edge\">\n<title>138254382228352&#45;&gt;138254382410928</title>\n<path fill=\"none\" stroke=\"black\" d=\"M50.5,-121.75C50.5,-114.8 50.5,-104.85 50.5,-96.13\"/>\n<polygon fill=\"black\" stroke=\"black\" points=\"54,-96.09 50.5,-86.09 47,-96.09 54,-96.09\"/>\n</g>\n<!-- 138254382228448 -->\n<g id=\"node4\" class=\"node\">\n<title>138254382228448</title>\n<polygon fill=\"lightgrey\" stroke=\"black\" points=\"95,-196 6,-196 6,-177 95,-177 95,-196\"/>\n<text text-anchor=\"middle\" x=\"50.5\" y=\"-184\" font-family=\"monospace\" font-size=\"10.00\">MulBackward0</text>\n</g>\n<!-- 138254382228448&#45;&gt;138254382228352 -->\n<g id=\"edge2\" class=\"edge\">\n<title>138254382228448&#45;&gt;138254382228352</title>\n<path fill=\"none\" stroke=\"black\" d=\"M50.5,-176.75C50.5,-169.8 50.5,-159.85 50.5,-151.13\"/>\n<polygon fill=\"black\" stroke=\"black\" points=\"54,-151.09 50.5,-141.09 47,-151.09 54,-151.09\"/>\n</g>\n<!-- 138254382222880 -->\n<g id=\"node5\" class=\"node\">\n<title>138254382222880</title>\n<polygon fill=\"lightgrey\" stroke=\"black\" points=\"95,-251 6,-251 6,-232 95,-232 95,-251\"/>\n<text text-anchor=\"middle\" x=\"50.5\" y=\"-239\" font-family=\"monospace\" font-size=\"10.00\">MulBackward0</text>\n</g>\n<!-- 138254382222880&#45;&gt;138254382228448 -->\n<g id=\"edge3\" class=\"edge\">\n<title>138254382222880&#45;&gt;138254382228448</title>\n<path fill=\"none\" stroke=\"black\" d=\"M50.5,-231.75C50.5,-224.8 50.5,-214.85 50.5,-206.13\"/>\n<polygon fill=\"black\" stroke=\"black\" points=\"54,-206.09 50.5,-196.09 47,-206.09 54,-206.09\"/>\n</g>\n<!-- 138254382224080 -->\n<g id=\"node6\" class=\"node\">\n<title>138254382224080</title>\n<polygon fill=\"lightgrey\" stroke=\"black\" points=\"95,-306 6,-306 6,-287 95,-287 95,-306\"/>\n<text text-anchor=\"middle\" x=\"50.5\" y=\"-294\" font-family=\"monospace\" font-size=\"10.00\">MulBackward0</text>\n</g>\n<!-- 138254382224080&#45;&gt;138254382222880 -->\n<g id=\"edge4\" class=\"edge\">\n<title>138254382224080&#45;&gt;138254382222880</title>\n<path fill=\"none\" stroke=\"black\" d=\"M50.5,-286.75C50.5,-279.8 50.5,-269.85 50.5,-261.13\"/>\n<polygon fill=\"black\" stroke=\"black\" points=\"54,-261.09 50.5,-251.09 47,-261.09 54,-261.09\"/>\n</g>\n<!-- 138254382222784 -->\n<g id=\"node7\" class=\"node\">\n<title>138254382222784</title>\n<polygon fill=\"lightgrey\" stroke=\"black\" points=\"95,-361 6,-361 6,-342 95,-342 95,-361\"/>\n<text text-anchor=\"middle\" x=\"50.5\" y=\"-349\" font-family=\"monospace\" font-size=\"10.00\">MulBackward0</text>\n</g>\n<!-- 138254382222784&#45;&gt;138254382224080 -->\n<g id=\"edge5\" class=\"edge\">\n<title>138254382222784&#45;&gt;138254382224080</title>\n<path fill=\"none\" stroke=\"black\" d=\"M50.5,-341.75C50.5,-334.8 50.5,-324.85 50.5,-316.13\"/>\n<polygon fill=\"black\" stroke=\"black\" points=\"54,-316.09 50.5,-306.09 47,-316.09 54,-316.09\"/>\n</g>\n<!-- 138254382224032 -->\n<g id=\"node8\" class=\"node\">\n<title>138254382224032</title>\n<polygon fill=\"lightgrey\" stroke=\"black\" points=\"95,-416 6,-416 6,-397 95,-397 95,-416\"/>\n<text text-anchor=\"middle\" x=\"50.5\" y=\"-404\" font-family=\"monospace\" font-size=\"10.00\">MulBackward0</text>\n</g>\n<!-- 138254382224032&#45;&gt;138254382222784 -->\n<g id=\"edge6\" class=\"edge\">\n<title>138254382224032&#45;&gt;138254382222784</title>\n<path fill=\"none\" stroke=\"black\" d=\"M50.5,-396.75C50.5,-389.8 50.5,-379.85 50.5,-371.13\"/>\n<polygon fill=\"black\" stroke=\"black\" points=\"54,-371.09 50.5,-361.09 47,-371.09 54,-371.09\"/>\n</g>\n<!-- 138254382228928 -->\n<g id=\"node9\" class=\"node\">\n<title>138254382228928</title>\n<polygon fill=\"lightgrey\" stroke=\"black\" points=\"95,-471 6,-471 6,-452 95,-452 95,-471\"/>\n<text text-anchor=\"middle\" x=\"50.5\" y=\"-459\" font-family=\"monospace\" font-size=\"10.00\">MulBackward0</text>\n</g>\n<!-- 138254382228928&#45;&gt;138254382224032 -->\n<g id=\"edge7\" class=\"edge\">\n<title>138254382228928&#45;&gt;138254382224032</title>\n<path fill=\"none\" stroke=\"black\" d=\"M50.5,-451.75C50.5,-444.8 50.5,-434.85 50.5,-426.13\"/>\n<polygon fill=\"black\" stroke=\"black\" points=\"54,-426.09 50.5,-416.09 47,-426.09 54,-426.09\"/>\n</g>\n<!-- 138254382227968 -->\n<g id=\"node10\" class=\"node\">\n<title>138254382227968</title>\n<polygon fill=\"lightgrey\" stroke=\"black\" points=\"95,-526 6,-526 6,-507 95,-507 95,-526\"/>\n<text text-anchor=\"middle\" x=\"50.5\" y=\"-514\" font-family=\"monospace\" font-size=\"10.00\">MulBackward0</text>\n</g>\n<!-- 138254382227968&#45;&gt;138254382228928 -->\n<g id=\"edge8\" class=\"edge\">\n<title>138254382227968&#45;&gt;138254382228928</title>\n<path fill=\"none\" stroke=\"black\" d=\"M50.5,-506.75C50.5,-499.8 50.5,-489.85 50.5,-481.13\"/>\n<polygon fill=\"black\" stroke=\"black\" points=\"54,-481.09 50.5,-471.09 47,-481.09 54,-481.09\"/>\n</g>\n<!-- 138254382229216 -->\n<g id=\"node11\" class=\"node\">\n<title>138254382229216</title>\n<polygon fill=\"lightgrey\" stroke=\"black\" points=\"95,-581 6,-581 6,-562 95,-562 95,-581\"/>\n<text text-anchor=\"middle\" x=\"50.5\" y=\"-569\" font-family=\"monospace\" font-size=\"10.00\">MulBackward0</text>\n</g>\n<!-- 138254382229216&#45;&gt;138254382227968 -->\n<g id=\"edge9\" class=\"edge\">\n<title>138254382229216&#45;&gt;138254382227968</title>\n<path fill=\"none\" stroke=\"black\" d=\"M50.5,-561.75C50.5,-554.8 50.5,-544.85 50.5,-536.13\"/>\n<polygon fill=\"black\" stroke=\"black\" points=\"54,-536.09 50.5,-526.09 47,-536.09 54,-536.09\"/>\n</g>\n<!-- 138254382223456 -->\n<g id=\"node12\" class=\"node\">\n<title>138254382223456</title>\n<polygon fill=\"lightgrey\" stroke=\"black\" points=\"95,-636 6,-636 6,-617 95,-617 95,-636\"/>\n<text text-anchor=\"middle\" x=\"50.5\" y=\"-624\" font-family=\"monospace\" font-size=\"10.00\">MulBackward0</text>\n</g>\n<!-- 138254382223456&#45;&gt;138254382229216 -->\n<g id=\"edge10\" class=\"edge\">\n<title>138254382223456&#45;&gt;138254382229216</title>\n<path fill=\"none\" stroke=\"black\" d=\"M50.5,-616.75C50.5,-609.8 50.5,-599.85 50.5,-591.13\"/>\n<polygon fill=\"black\" stroke=\"black\" points=\"54,-591.09 50.5,-581.09 47,-591.09 54,-591.09\"/>\n</g>\n<!-- 138254382223120 -->\n<g id=\"node13\" class=\"node\">\n<title>138254382223120</title>\n<polygon fill=\"lightgrey\" stroke=\"black\" points=\"101,-691 0,-691 0,-672 101,-672 101,-691\"/>\n<text text-anchor=\"middle\" x=\"50.5\" y=\"-679\" font-family=\"monospace\" font-size=\"10.00\">AccumulateGrad</text>\n</g>\n<!-- 138254382223120&#45;&gt;138254382223456 -->\n<g id=\"edge11\" class=\"edge\">\n<title>138254382223120&#45;&gt;138254382223456</title>\n<path fill=\"none\" stroke=\"black\" d=\"M50.5,-671.75C50.5,-664.8 50.5,-654.85 50.5,-646.13\"/>\n<polygon fill=\"black\" stroke=\"black\" points=\"54,-646.09 50.5,-636.09 47,-646.09 54,-646.09\"/>\n</g>\n<!-- 138258206661504 -->\n<g id=\"node14\" class=\"node\">\n<title>138258206661504</title>\n<polygon fill=\"lightblue\" stroke=\"black\" points=\"77.5,-757 23.5,-757 23.5,-727 77.5,-727 77.5,-757\"/>\n<text text-anchor=\"middle\" x=\"50.5\" y=\"-745\" font-family=\"monospace\" font-size=\"10.00\">a</text>\n<text text-anchor=\"middle\" x=\"50.5\" y=\"-734\" font-family=\"monospace\" font-size=\"10.00\"> ()</text>\n</g>\n<!-- 138258206661504&#45;&gt;138254382223120 -->\n<g id=\"edge12\" class=\"edge\">\n<title>138258206661504&#45;&gt;138254382223120</title>\n<path fill=\"none\" stroke=\"black\" d=\"M50.5,-726.84C50.5,-719.21 50.5,-709.7 50.5,-701.45\"/>\n<polygon fill=\"black\" stroke=\"black\" points=\"54,-701.27 50.5,-691.27 47,-701.27 54,-701.27\"/>\n</g>\n</g>\n</svg>\n",
            "text/plain": [
              "<graphviz.graphs.Digraph at 0x7dbddb5775f0>"
            ]
          },
          "metadata": {},
          "execution_count": 11
        }
      ]
    },
    {
      "cell_type": "code",
      "source": [
        "d.backward()"
      ],
      "metadata": {
        "id": "Q7REMztgBQux"
      },
      "id": "Q7REMztgBQux",
      "execution_count": 12,
      "outputs": []
    },
    {
      "cell_type": "code",
      "source": [
        "make_dot(d, params={'a': a})"
      ],
      "metadata": {
        "colab": {
          "base_uri": "https://localhost:8080/",
          "height": 1000
        },
        "id": "ybRICXX5BUEh",
        "outputId": "2956611f-e423-4dd2-f2a7-82f49d3cfc0c"
      },
      "id": "ybRICXX5BUEh",
      "execution_count": 13,
      "outputs": [
        {
          "output_type": "execute_result",
          "data": {
            "image/svg+xml": "<?xml version=\"1.0\" encoding=\"UTF-8\" standalone=\"no\"?>\n<!DOCTYPE svg PUBLIC \"-//W3C//DTD SVG 1.1//EN\"\n \"http://www.w3.org/Graphics/SVG/1.1/DTD/svg11.dtd\">\n<!-- Generated by graphviz version 2.43.0 (0)\n -->\n<!-- Title: %3 Pages: 1 -->\n<svg width=\"109pt\" height=\"765pt\"\n viewBox=\"0.00 0.00 109.00 765.00\" xmlns=\"http://www.w3.org/2000/svg\" xmlns:xlink=\"http://www.w3.org/1999/xlink\">\n<g id=\"graph0\" class=\"graph\" transform=\"scale(1 1) rotate(0) translate(4 761)\">\n<title>%3</title>\n<polygon fill=\"white\" stroke=\"transparent\" points=\"-4,4 -4,-761 105,-761 105,4 -4,4\"/>\n<!-- 138258218053904 -->\n<g id=\"node1\" class=\"node\">\n<title>138258218053904</title>\n<polygon fill=\"#caff70\" stroke=\"black\" points=\"77.5,-31 23.5,-31 23.5,0 77.5,0 77.5,-31\"/>\n<text text-anchor=\"middle\" x=\"50.5\" y=\"-7\" font-family=\"monospace\" font-size=\"10.00\"> ()</text>\n</g>\n<!-- 138254382410928 -->\n<g id=\"node2\" class=\"node\">\n<title>138254382410928</title>\n<polygon fill=\"lightgrey\" stroke=\"black\" points=\"95,-86 6,-86 6,-67 95,-67 95,-86\"/>\n<text text-anchor=\"middle\" x=\"50.5\" y=\"-74\" font-family=\"monospace\" font-size=\"10.00\">MulBackward0</text>\n</g>\n<!-- 138254382410928&#45;&gt;138258218053904 -->\n<g id=\"edge13\" class=\"edge\">\n<title>138254382410928&#45;&gt;138258218053904</title>\n<path fill=\"none\" stroke=\"black\" d=\"M50.5,-66.79C50.5,-60.07 50.5,-50.4 50.5,-41.34\"/>\n<polygon fill=\"black\" stroke=\"black\" points=\"54,-41.19 50.5,-31.19 47,-41.19 54,-41.19\"/>\n</g>\n<!-- 138254382228352 -->\n<g id=\"node3\" class=\"node\">\n<title>138254382228352</title>\n<polygon fill=\"lightgrey\" stroke=\"black\" points=\"95,-141 6,-141 6,-122 95,-122 95,-141\"/>\n<text text-anchor=\"middle\" x=\"50.5\" y=\"-129\" font-family=\"monospace\" font-size=\"10.00\">MulBackward0</text>\n</g>\n<!-- 138254382228352&#45;&gt;138254382410928 -->\n<g id=\"edge1\" class=\"edge\">\n<title>138254382228352&#45;&gt;138254382410928</title>\n<path fill=\"none\" stroke=\"black\" d=\"M50.5,-121.75C50.5,-114.8 50.5,-104.85 50.5,-96.13\"/>\n<polygon fill=\"black\" stroke=\"black\" points=\"54,-96.09 50.5,-86.09 47,-96.09 54,-96.09\"/>\n</g>\n<!-- 138254382228448 -->\n<g id=\"node4\" class=\"node\">\n<title>138254382228448</title>\n<polygon fill=\"lightgrey\" stroke=\"black\" points=\"95,-196 6,-196 6,-177 95,-177 95,-196\"/>\n<text text-anchor=\"middle\" x=\"50.5\" y=\"-184\" font-family=\"monospace\" font-size=\"10.00\">MulBackward0</text>\n</g>\n<!-- 138254382228448&#45;&gt;138254382228352 -->\n<g id=\"edge2\" class=\"edge\">\n<title>138254382228448&#45;&gt;138254382228352</title>\n<path fill=\"none\" stroke=\"black\" d=\"M50.5,-176.75C50.5,-169.8 50.5,-159.85 50.5,-151.13\"/>\n<polygon fill=\"black\" stroke=\"black\" points=\"54,-151.09 50.5,-141.09 47,-151.09 54,-151.09\"/>\n</g>\n<!-- 138254382222880 -->\n<g id=\"node5\" class=\"node\">\n<title>138254382222880</title>\n<polygon fill=\"lightgrey\" stroke=\"black\" points=\"95,-251 6,-251 6,-232 95,-232 95,-251\"/>\n<text text-anchor=\"middle\" x=\"50.5\" y=\"-239\" font-family=\"monospace\" font-size=\"10.00\">MulBackward0</text>\n</g>\n<!-- 138254382222880&#45;&gt;138254382228448 -->\n<g id=\"edge3\" class=\"edge\">\n<title>138254382222880&#45;&gt;138254382228448</title>\n<path fill=\"none\" stroke=\"black\" d=\"M50.5,-231.75C50.5,-224.8 50.5,-214.85 50.5,-206.13\"/>\n<polygon fill=\"black\" stroke=\"black\" points=\"54,-206.09 50.5,-196.09 47,-206.09 54,-206.09\"/>\n</g>\n<!-- 138254382224080 -->\n<g id=\"node6\" class=\"node\">\n<title>138254382224080</title>\n<polygon fill=\"lightgrey\" stroke=\"black\" points=\"95,-306 6,-306 6,-287 95,-287 95,-306\"/>\n<text text-anchor=\"middle\" x=\"50.5\" y=\"-294\" font-family=\"monospace\" font-size=\"10.00\">MulBackward0</text>\n</g>\n<!-- 138254382224080&#45;&gt;138254382222880 -->\n<g id=\"edge4\" class=\"edge\">\n<title>138254382224080&#45;&gt;138254382222880</title>\n<path fill=\"none\" stroke=\"black\" d=\"M50.5,-286.75C50.5,-279.8 50.5,-269.85 50.5,-261.13\"/>\n<polygon fill=\"black\" stroke=\"black\" points=\"54,-261.09 50.5,-251.09 47,-261.09 54,-261.09\"/>\n</g>\n<!-- 138254382222784 -->\n<g id=\"node7\" class=\"node\">\n<title>138254382222784</title>\n<polygon fill=\"lightgrey\" stroke=\"black\" points=\"95,-361 6,-361 6,-342 95,-342 95,-361\"/>\n<text text-anchor=\"middle\" x=\"50.5\" y=\"-349\" font-family=\"monospace\" font-size=\"10.00\">MulBackward0</text>\n</g>\n<!-- 138254382222784&#45;&gt;138254382224080 -->\n<g id=\"edge5\" class=\"edge\">\n<title>138254382222784&#45;&gt;138254382224080</title>\n<path fill=\"none\" stroke=\"black\" d=\"M50.5,-341.75C50.5,-334.8 50.5,-324.85 50.5,-316.13\"/>\n<polygon fill=\"black\" stroke=\"black\" points=\"54,-316.09 50.5,-306.09 47,-316.09 54,-316.09\"/>\n</g>\n<!-- 138254382224032 -->\n<g id=\"node8\" class=\"node\">\n<title>138254382224032</title>\n<polygon fill=\"lightgrey\" stroke=\"black\" points=\"95,-416 6,-416 6,-397 95,-397 95,-416\"/>\n<text text-anchor=\"middle\" x=\"50.5\" y=\"-404\" font-family=\"monospace\" font-size=\"10.00\">MulBackward0</text>\n</g>\n<!-- 138254382224032&#45;&gt;138254382222784 -->\n<g id=\"edge6\" class=\"edge\">\n<title>138254382224032&#45;&gt;138254382222784</title>\n<path fill=\"none\" stroke=\"black\" d=\"M50.5,-396.75C50.5,-389.8 50.5,-379.85 50.5,-371.13\"/>\n<polygon fill=\"black\" stroke=\"black\" points=\"54,-371.09 50.5,-361.09 47,-371.09 54,-371.09\"/>\n</g>\n<!-- 138254382228928 -->\n<g id=\"node9\" class=\"node\">\n<title>138254382228928</title>\n<polygon fill=\"lightgrey\" stroke=\"black\" points=\"95,-471 6,-471 6,-452 95,-452 95,-471\"/>\n<text text-anchor=\"middle\" x=\"50.5\" y=\"-459\" font-family=\"monospace\" font-size=\"10.00\">MulBackward0</text>\n</g>\n<!-- 138254382228928&#45;&gt;138254382224032 -->\n<g id=\"edge7\" class=\"edge\">\n<title>138254382228928&#45;&gt;138254382224032</title>\n<path fill=\"none\" stroke=\"black\" d=\"M50.5,-451.75C50.5,-444.8 50.5,-434.85 50.5,-426.13\"/>\n<polygon fill=\"black\" stroke=\"black\" points=\"54,-426.09 50.5,-416.09 47,-426.09 54,-426.09\"/>\n</g>\n<!-- 138254382227968 -->\n<g id=\"node10\" class=\"node\">\n<title>138254382227968</title>\n<polygon fill=\"lightgrey\" stroke=\"black\" points=\"95,-526 6,-526 6,-507 95,-507 95,-526\"/>\n<text text-anchor=\"middle\" x=\"50.5\" y=\"-514\" font-family=\"monospace\" font-size=\"10.00\">MulBackward0</text>\n</g>\n<!-- 138254382227968&#45;&gt;138254382228928 -->\n<g id=\"edge8\" class=\"edge\">\n<title>138254382227968&#45;&gt;138254382228928</title>\n<path fill=\"none\" stroke=\"black\" d=\"M50.5,-506.75C50.5,-499.8 50.5,-489.85 50.5,-481.13\"/>\n<polygon fill=\"black\" stroke=\"black\" points=\"54,-481.09 50.5,-471.09 47,-481.09 54,-481.09\"/>\n</g>\n<!-- 138254382229216 -->\n<g id=\"node11\" class=\"node\">\n<title>138254382229216</title>\n<polygon fill=\"lightgrey\" stroke=\"black\" points=\"95,-581 6,-581 6,-562 95,-562 95,-581\"/>\n<text text-anchor=\"middle\" x=\"50.5\" y=\"-569\" font-family=\"monospace\" font-size=\"10.00\">MulBackward0</text>\n</g>\n<!-- 138254382229216&#45;&gt;138254382227968 -->\n<g id=\"edge9\" class=\"edge\">\n<title>138254382229216&#45;&gt;138254382227968</title>\n<path fill=\"none\" stroke=\"black\" d=\"M50.5,-561.75C50.5,-554.8 50.5,-544.85 50.5,-536.13\"/>\n<polygon fill=\"black\" stroke=\"black\" points=\"54,-536.09 50.5,-526.09 47,-536.09 54,-536.09\"/>\n</g>\n<!-- 138254382223456 -->\n<g id=\"node12\" class=\"node\">\n<title>138254382223456</title>\n<polygon fill=\"lightgrey\" stroke=\"black\" points=\"95,-636 6,-636 6,-617 95,-617 95,-636\"/>\n<text text-anchor=\"middle\" x=\"50.5\" y=\"-624\" font-family=\"monospace\" font-size=\"10.00\">MulBackward0</text>\n</g>\n<!-- 138254382223456&#45;&gt;138254382229216 -->\n<g id=\"edge10\" class=\"edge\">\n<title>138254382223456&#45;&gt;138254382229216</title>\n<path fill=\"none\" stroke=\"black\" d=\"M50.5,-616.75C50.5,-609.8 50.5,-599.85 50.5,-591.13\"/>\n<polygon fill=\"black\" stroke=\"black\" points=\"54,-591.09 50.5,-581.09 47,-591.09 54,-591.09\"/>\n</g>\n<!-- 138254382223120 -->\n<g id=\"node13\" class=\"node\">\n<title>138254382223120</title>\n<polygon fill=\"lightgrey\" stroke=\"black\" points=\"101,-691 0,-691 0,-672 101,-672 101,-691\"/>\n<text text-anchor=\"middle\" x=\"50.5\" y=\"-679\" font-family=\"monospace\" font-size=\"10.00\">AccumulateGrad</text>\n</g>\n<!-- 138254382223120&#45;&gt;138254382223456 -->\n<g id=\"edge11\" class=\"edge\">\n<title>138254382223120&#45;&gt;138254382223456</title>\n<path fill=\"none\" stroke=\"black\" d=\"M50.5,-671.75C50.5,-664.8 50.5,-654.85 50.5,-646.13\"/>\n<polygon fill=\"black\" stroke=\"black\" points=\"54,-646.09 50.5,-636.09 47,-646.09 54,-646.09\"/>\n</g>\n<!-- 138258206661504 -->\n<g id=\"node14\" class=\"node\">\n<title>138258206661504</title>\n<polygon fill=\"lightblue\" stroke=\"black\" points=\"77.5,-757 23.5,-757 23.5,-727 77.5,-727 77.5,-757\"/>\n<text text-anchor=\"middle\" x=\"50.5\" y=\"-745\" font-family=\"monospace\" font-size=\"10.00\">a</text>\n<text text-anchor=\"middle\" x=\"50.5\" y=\"-734\" font-family=\"monospace\" font-size=\"10.00\"> ()</text>\n</g>\n<!-- 138258206661504&#45;&gt;138254382223120 -->\n<g id=\"edge12\" class=\"edge\">\n<title>138258206661504&#45;&gt;138254382223120</title>\n<path fill=\"none\" stroke=\"black\" d=\"M50.5,-726.84C50.5,-719.21 50.5,-709.7 50.5,-701.45\"/>\n<polygon fill=\"black\" stroke=\"black\" points=\"54,-701.27 50.5,-691.27 47,-701.27 54,-701.27\"/>\n</g>\n</g>\n</svg>\n",
            "text/plain": [
              "<graphviz.graphs.Digraph at 0x7dbddb577fe0>"
            ]
          },
          "metadata": {},
          "execution_count": 13
        }
      ]
    },
    {
      "cell_type": "markdown",
      "source": [
        "### 1. In the control flow example where we calculate the derivative of `d` with respect to `a`, what would happen if we changed the variable `a` to a random vector or a matrix? At this point, the result of the calculation `f(a)` is no longer a scalar. What happens to the result? How do we analyze this?\n"
      ],
      "metadata": {
        "id": "jJUQ1Gtg-t7-"
      },
      "id": "jJUQ1Gtg-t7-"
    },
    {
      "cell_type": "code",
      "source": [
        "def f(a):\n",
        "    b = a * 2\n",
        "    while b.norm() < 1000:\n",
        "        b = b * 2\n",
        "    if b.sum() > 0:\n",
        "        c = b\n",
        "    else:\n",
        "        c = 100 * b\n",
        "    return c\n",
        "a = torch.randn(size=(2,2,2), requires_grad=True)\n",
        "d = f(a)\n",
        "d.backward(gradient=torch.ones_like(d))\n",
        "make_dot(d, params={'a': a})"
      ],
      "metadata": {
        "colab": {
          "base_uri": "https://localhost:8080/",
          "height": 895
        },
        "id": "l1l8d4dlBo1U",
        "outputId": "44c5171a-cdb3-4e65-e121-9c9353c0dc2e"
      },
      "id": "l1l8d4dlBo1U",
      "execution_count": 19,
      "outputs": [
        {
          "output_type": "execute_result",
          "data": {
            "image/svg+xml": "<?xml version=\"1.0\" encoding=\"UTF-8\" standalone=\"no\"?>\n<!DOCTYPE svg PUBLIC \"-//W3C//DTD SVG 1.1//EN\"\n \"http://www.w3.org/Graphics/SVG/1.1/DTD/svg11.dtd\">\n<!-- Generated by graphviz version 2.43.0 (0)\n -->\n<!-- Title: %3 Pages: 1 -->\n<svg width=\"109pt\" height=\"655pt\"\n viewBox=\"0.00 0.00 109.00 655.00\" xmlns=\"http://www.w3.org/2000/svg\" xmlns:xlink=\"http://www.w3.org/1999/xlink\">\n<g id=\"graph0\" class=\"graph\" transform=\"scale(1 1) rotate(0) translate(4 651)\">\n<title>%3</title>\n<polygon fill=\"white\" stroke=\"transparent\" points=\"-4,4 -4,-651 105,-651 105,4 -4,4\"/>\n<!-- 138254358583792 -->\n<g id=\"node1\" class=\"node\">\n<title>138254358583792</title>\n<polygon fill=\"#caff70\" stroke=\"black\" points=\"89,-31 12,-31 12,0 89,0 89,-31\"/>\n<text text-anchor=\"middle\" x=\"50.5\" y=\"-7\" font-family=\"monospace\" font-size=\"10.00\"> (2, 2, 2)</text>\n</g>\n<!-- 138254362277344 -->\n<g id=\"node2\" class=\"node\">\n<title>138254362277344</title>\n<polygon fill=\"lightgrey\" stroke=\"black\" points=\"95,-86 6,-86 6,-67 95,-67 95,-86\"/>\n<text text-anchor=\"middle\" x=\"50.5\" y=\"-74\" font-family=\"monospace\" font-size=\"10.00\">MulBackward0</text>\n</g>\n<!-- 138254362277344&#45;&gt;138254358583792 -->\n<g id=\"edge11\" class=\"edge\">\n<title>138254362277344&#45;&gt;138254358583792</title>\n<path fill=\"none\" stroke=\"black\" d=\"M50.5,-66.79C50.5,-60.07 50.5,-50.4 50.5,-41.34\"/>\n<polygon fill=\"black\" stroke=\"black\" points=\"54,-41.19 50.5,-31.19 47,-41.19 54,-41.19\"/>\n</g>\n<!-- 138254362272016 -->\n<g id=\"node3\" class=\"node\">\n<title>138254362272016</title>\n<polygon fill=\"lightgrey\" stroke=\"black\" points=\"95,-141 6,-141 6,-122 95,-122 95,-141\"/>\n<text text-anchor=\"middle\" x=\"50.5\" y=\"-129\" font-family=\"monospace\" font-size=\"10.00\">MulBackward0</text>\n</g>\n<!-- 138254362272016&#45;&gt;138254362277344 -->\n<g id=\"edge1\" class=\"edge\">\n<title>138254362272016&#45;&gt;138254362277344</title>\n<path fill=\"none\" stroke=\"black\" d=\"M50.5,-121.75C50.5,-114.8 50.5,-104.85 50.5,-96.13\"/>\n<polygon fill=\"black\" stroke=\"black\" points=\"54,-96.09 50.5,-86.09 47,-96.09 54,-96.09\"/>\n</g>\n<!-- 138254382235264 -->\n<g id=\"node4\" class=\"node\">\n<title>138254382235264</title>\n<polygon fill=\"lightgrey\" stroke=\"black\" points=\"95,-196 6,-196 6,-177 95,-177 95,-196\"/>\n<text text-anchor=\"middle\" x=\"50.5\" y=\"-184\" font-family=\"monospace\" font-size=\"10.00\">MulBackward0</text>\n</g>\n<!-- 138254382235264&#45;&gt;138254362272016 -->\n<g id=\"edge2\" class=\"edge\">\n<title>138254382235264&#45;&gt;138254362272016</title>\n<path fill=\"none\" stroke=\"black\" d=\"M50.5,-176.75C50.5,-169.8 50.5,-159.85 50.5,-151.13\"/>\n<polygon fill=\"black\" stroke=\"black\" points=\"54,-151.09 50.5,-141.09 47,-151.09 54,-151.09\"/>\n</g>\n<!-- 138258621767088 -->\n<g id=\"node5\" class=\"node\">\n<title>138258621767088</title>\n<polygon fill=\"lightgrey\" stroke=\"black\" points=\"95,-251 6,-251 6,-232 95,-232 95,-251\"/>\n<text text-anchor=\"middle\" x=\"50.5\" y=\"-239\" font-family=\"monospace\" font-size=\"10.00\">MulBackward0</text>\n</g>\n<!-- 138258621767088&#45;&gt;138254382235264 -->\n<g id=\"edge3\" class=\"edge\">\n<title>138258621767088&#45;&gt;138254382235264</title>\n<path fill=\"none\" stroke=\"black\" d=\"M50.5,-231.75C50.5,-224.8 50.5,-214.85 50.5,-206.13\"/>\n<polygon fill=\"black\" stroke=\"black\" points=\"54,-206.09 50.5,-196.09 47,-206.09 54,-206.09\"/>\n</g>\n<!-- 138254382222400 -->\n<g id=\"node6\" class=\"node\">\n<title>138254382222400</title>\n<polygon fill=\"lightgrey\" stroke=\"black\" points=\"95,-306 6,-306 6,-287 95,-287 95,-306\"/>\n<text text-anchor=\"middle\" x=\"50.5\" y=\"-294\" font-family=\"monospace\" font-size=\"10.00\">MulBackward0</text>\n</g>\n<!-- 138254382222400&#45;&gt;138258621767088 -->\n<g id=\"edge4\" class=\"edge\">\n<title>138254382222400&#45;&gt;138258621767088</title>\n<path fill=\"none\" stroke=\"black\" d=\"M50.5,-286.75C50.5,-279.8 50.5,-269.85 50.5,-261.13\"/>\n<polygon fill=\"black\" stroke=\"black\" points=\"54,-261.09 50.5,-251.09 47,-261.09 54,-261.09\"/>\n</g>\n<!-- 138254380936512 -->\n<g id=\"node7\" class=\"node\">\n<title>138254380936512</title>\n<polygon fill=\"lightgrey\" stroke=\"black\" points=\"95,-361 6,-361 6,-342 95,-342 95,-361\"/>\n<text text-anchor=\"middle\" x=\"50.5\" y=\"-349\" font-family=\"monospace\" font-size=\"10.00\">MulBackward0</text>\n</g>\n<!-- 138254380936512&#45;&gt;138254382222400 -->\n<g id=\"edge5\" class=\"edge\">\n<title>138254380936512&#45;&gt;138254382222400</title>\n<path fill=\"none\" stroke=\"black\" d=\"M50.5,-341.75C50.5,-334.8 50.5,-324.85 50.5,-316.13\"/>\n<polygon fill=\"black\" stroke=\"black\" points=\"54,-316.09 50.5,-306.09 47,-316.09 54,-316.09\"/>\n</g>\n<!-- 138254374078736 -->\n<g id=\"node8\" class=\"node\">\n<title>138254374078736</title>\n<polygon fill=\"lightgrey\" stroke=\"black\" points=\"95,-416 6,-416 6,-397 95,-397 95,-416\"/>\n<text text-anchor=\"middle\" x=\"50.5\" y=\"-404\" font-family=\"monospace\" font-size=\"10.00\">MulBackward0</text>\n</g>\n<!-- 138254374078736&#45;&gt;138254380936512 -->\n<g id=\"edge6\" class=\"edge\">\n<title>138254374078736&#45;&gt;138254380936512</title>\n<path fill=\"none\" stroke=\"black\" d=\"M50.5,-396.75C50.5,-389.8 50.5,-379.85 50.5,-371.13\"/>\n<polygon fill=\"black\" stroke=\"black\" points=\"54,-371.09 50.5,-361.09 47,-371.09 54,-371.09\"/>\n</g>\n<!-- 138254362396608 -->\n<g id=\"node9\" class=\"node\">\n<title>138254362396608</title>\n<polygon fill=\"lightgrey\" stroke=\"black\" points=\"95,-471 6,-471 6,-452 95,-452 95,-471\"/>\n<text text-anchor=\"middle\" x=\"50.5\" y=\"-459\" font-family=\"monospace\" font-size=\"10.00\">MulBackward0</text>\n</g>\n<!-- 138254362396608&#45;&gt;138254374078736 -->\n<g id=\"edge7\" class=\"edge\">\n<title>138254362396608&#45;&gt;138254374078736</title>\n<path fill=\"none\" stroke=\"black\" d=\"M50.5,-451.75C50.5,-444.8 50.5,-434.85 50.5,-426.13\"/>\n<polygon fill=\"black\" stroke=\"black\" points=\"54,-426.09 50.5,-416.09 47,-426.09 54,-426.09\"/>\n</g>\n<!-- 138254362444704 -->\n<g id=\"node10\" class=\"node\">\n<title>138254362444704</title>\n<polygon fill=\"lightgrey\" stroke=\"black\" points=\"95,-526 6,-526 6,-507 95,-507 95,-526\"/>\n<text text-anchor=\"middle\" x=\"50.5\" y=\"-514\" font-family=\"monospace\" font-size=\"10.00\">MulBackward0</text>\n</g>\n<!-- 138254362444704&#45;&gt;138254362396608 -->\n<g id=\"edge8\" class=\"edge\">\n<title>138254362444704&#45;&gt;138254362396608</title>\n<path fill=\"none\" stroke=\"black\" d=\"M50.5,-506.75C50.5,-499.8 50.5,-489.85 50.5,-481.13\"/>\n<polygon fill=\"black\" stroke=\"black\" points=\"54,-481.09 50.5,-471.09 47,-481.09 54,-481.09\"/>\n</g>\n<!-- 138254363760656 -->\n<g id=\"node11\" class=\"node\">\n<title>138254363760656</title>\n<polygon fill=\"lightgrey\" stroke=\"black\" points=\"101,-581 0,-581 0,-562 101,-562 101,-581\"/>\n<text text-anchor=\"middle\" x=\"50.5\" y=\"-569\" font-family=\"monospace\" font-size=\"10.00\">AccumulateGrad</text>\n</g>\n<!-- 138254363760656&#45;&gt;138254362444704 -->\n<g id=\"edge9\" class=\"edge\">\n<title>138254363760656&#45;&gt;138254362444704</title>\n<path fill=\"none\" stroke=\"black\" d=\"M50.5,-561.75C50.5,-554.8 50.5,-544.85 50.5,-536.13\"/>\n<polygon fill=\"black\" stroke=\"black\" points=\"54,-536.09 50.5,-526.09 47,-536.09 54,-536.09\"/>\n</g>\n<!-- 138254359741456 -->\n<g id=\"node12\" class=\"node\">\n<title>138254359741456</title>\n<polygon fill=\"lightblue\" stroke=\"black\" points=\"89,-647 12,-647 12,-617 89,-617 89,-647\"/>\n<text text-anchor=\"middle\" x=\"50.5\" y=\"-635\" font-family=\"monospace\" font-size=\"10.00\">a</text>\n<text text-anchor=\"middle\" x=\"50.5\" y=\"-624\" font-family=\"monospace\" font-size=\"10.00\"> (2, 2, 2)</text>\n</g>\n<!-- 138254359741456&#45;&gt;138254363760656 -->\n<g id=\"edge10\" class=\"edge\">\n<title>138254359741456&#45;&gt;138254363760656</title>\n<path fill=\"none\" stroke=\"black\" d=\"M50.5,-616.84C50.5,-609.21 50.5,-599.7 50.5,-591.45\"/>\n<polygon fill=\"black\" stroke=\"black\" points=\"54,-591.27 50.5,-581.27 47,-591.27 54,-591.27\"/>\n</g>\n</g>\n</svg>\n",
            "text/plain": [
              "<graphviz.graphs.Digraph at 0x7dbddbfe0620>"
            ]
          },
          "metadata": {},
          "execution_count": 19
        }
      ]
    },
    {
      "cell_type": "markdown",
      "source": [
        "### 1. Let $f(x) = \\sin(x)$. Plot the graph of $f$ and of its derivative $f'$. Do not exploit the fact that $f'(x) = \\cos(x)$ but rather use automatic differentiation to get the result.\n"
      ],
      "metadata": {
        "id": "2bSRdBU_-t3y"
      },
      "id": "2bSRdBU_-t3y"
    },
    {
      "cell_type": "code",
      "source": [
        "import torch\n",
        "import matplotlib.pyplot as plt\n",
        "import numpy as np\n",
        "\n",
        "x = torch.linspace(-2 * torch.pi, 2 * torch.pi, 10, requires_grad=True)\n",
        "\n",
        "f_x = torch.sin(x)\n",
        "\n",
        "f_x.backward(torch.ones_like(x))\n",
        "\n",
        "df_dx = x.grad\n",
        "\n",
        "x_np = x.detach().numpy()\n",
        "f_x_np = f_x.detach().numpy()\n",
        "df_dx_np = df_dx.numpy()\n",
        "\n",
        "plt.figure(figsize=(10, 6))\n",
        "plt.plot(x_np, f_x_np, label='f(x) = sin(x)')\n",
        "plt.plot(x_np, df_dx_np, label=\"f'(x) (computed using autograd)\")\n",
        "plt.xlabel('x')\n",
        "plt.ylabel('y')\n",
        "plt.title('Plot of f(x) and its derivative')\n",
        "plt.legend()\n",
        "plt.grid(True)\n",
        "plt.show()"
      ],
      "metadata": {
        "colab": {
          "base_uri": "https://localhost:8080/",
          "height": 564
        },
        "id": "75s8-FemDFqg",
        "outputId": "61fc887c-202f-487c-b19a-2ef8b6d8b93c"
      },
      "id": "75s8-FemDFqg",
      "execution_count": 31,
      "outputs": [
        {
          "output_type": "display_data",
          "data": {
            "text/plain": [
              "<Figure size 1000x600 with 1 Axes>"
            ],
            "image/png": "[encoded data removed]"
          },
          "metadata": {}
        }
      ]
    },
    {
      "cell_type": "code",
      "source": [
        "df_dx"
      ],
      "metadata": {
        "colab": {
          "base_uri": "https://localhost:8080/"
        },
        "id": "b7bgJJUUERXr",
        "outputId": "1760ec99-cc4e-4c7a-bb8b-6ecd924681d9"
      },
      "id": "b7bgJJUUERXr",
      "execution_count": 32,
      "outputs": [
        {
          "output_type": "execute_result",
          "data": {
            "text/plain": [
              "tensor([ 1.0000,  0.1736, -0.9397, -0.5000,  0.7660,  0.7660, -0.5000, -0.9397,\n",
              "         0.1736,  1.0000])"
            ]
          },
          "metadata": {},
          "execution_count": 32
        }
      ]
    },
    {
      "cell_type": "code",
      "source": [
        "x.grad"
      ],
      "metadata": {
        "colab": {
          "base_uri": "https://localhost:8080/"
        },
        "id": "DFguNILeE1N_",
        "outputId": "103054f0-3dea-498b-befb-ae3ab942e7aa"
      },
      "id": "DFguNILeE1N_",
      "execution_count": 33,
      "outputs": [
        {
          "output_type": "execute_result",
          "data": {
            "text/plain": [
              "tensor([ 1.0000,  0.1736, -0.9397, -0.5000,  0.7660,  0.7660, -0.5000, -0.9397,\n",
              "         0.1736,  1.0000])"
            ]
          },
          "metadata": {},
          "execution_count": 33
        }
      ]
    },
    {
      "cell_type": "markdown",
      "source": [
        "### 1. Let $f(x) = ((\\log x^2) \\cdot \\sin x) + x^{-1}$. Write out a dependency graph tracing results from $x$ to $f(x)$.\n"
      ],
      "metadata": {
        "id": "bOTMRqHd-t2M"
      },
      "id": "bOTMRqHd-t2M"
    },
    {
      "cell_type": "code",
      "metadata": {
        "colab": {
          "base_uri": "https://localhost:8080/",
          "height": 529
        },
        "id": "89ac47a9",
        "outputId": "8a9ff340-f54e-49f6-9560-12a12bfeb400"
      },
      "source": [
        "import torch\n",
        "from torchviz import make_dot\n",
        "\n",
        "# Define x with requires_grad=True to track operations\n",
        "x = torch.tensor(2.0, requires_grad=True)\n",
        "\n",
        "# Define the function f(x) = ((log x^2) * sin x) + x^-1\n",
        "# Break it down into intermediate steps for clarity\n",
        "u = x**2\n",
        "v = torch.log(u)\n",
        "w = torch.sin(x)\n",
        "p = v * w\n",
        "q = x**(-1)\n",
        "f_x = p + q\n",
        "\n",
        "# Visualize the computational graph\n",
        "make_dot(f_x, params={'x': x})"
      ],
      "id": "89ac47a9",
      "execution_count": 35,
      "outputs": [
        {
          "output_type": "execute_result",
          "data": {
            "image/svg+xml": "<?xml version=\"1.0\" encoding=\"UTF-8\" standalone=\"no\"?>\n<!DOCTYPE svg PUBLIC \"-//W3C//DTD SVG 1.1//EN\"\n \"http://www.w3.org/Graphics/SVG/1.1/DTD/svg11.dtd\">\n<!-- Generated by graphviz version 2.43.0 (0)\n -->\n<!-- Title: %3 Pages: 1 -->\n<svg width=\"277pt\" height=\"380pt\"\n viewBox=\"0.00 0.00 277.00 380.00\" xmlns=\"http://www.w3.org/2000/svg\" xmlns:xlink=\"http://www.w3.org/1999/xlink\">\n<g id=\"graph0\" class=\"graph\" transform=\"scale(1 1) rotate(0) translate(4 376)\">\n<title>%3</title>\n<polygon fill=\"white\" stroke=\"transparent\" points=\"-4,4 -4,-376 273,-376 273,4 -4,4\"/>\n<!-- 138254357901904 -->\n<g id=\"node1\" class=\"node\">\n<title>138254357901904</title>\n<polygon fill=\"#caff70\" stroke=\"black\" points=\"197.5,-31 143.5,-31 143.5,0 197.5,0 197.5,-31\"/>\n<text text-anchor=\"middle\" x=\"170.5\" y=\"-7\" font-family=\"monospace\" font-size=\"10.00\"> ()</text>\n</g>\n<!-- 138254382221824 -->\n<g id=\"node2\" class=\"node\">\n<title>138254382221824</title>\n<polygon fill=\"lightgrey\" stroke=\"black\" points=\"215,-86 126,-86 126,-67 215,-67 215,-86\"/>\n<text text-anchor=\"middle\" x=\"170.5\" y=\"-74\" font-family=\"monospace\" font-size=\"10.00\">AddBackward0</text>\n</g>\n<!-- 138254382221824&#45;&gt;138254357901904 -->\n<g id=\"edge10\" class=\"edge\">\n<title>138254382221824&#45;&gt;138254357901904</title>\n<path fill=\"none\" stroke=\"black\" d=\"M170.5,-66.79C170.5,-60.07 170.5,-50.4 170.5,-41.34\"/>\n<polygon fill=\"black\" stroke=\"black\" points=\"174,-41.19 170.5,-31.19 167,-41.19 174,-41.19\"/>\n</g>\n<!-- 138254382233728 -->\n<g id=\"node3\" class=\"node\">\n<title>138254382233728</title>\n<polygon fill=\"lightgrey\" stroke=\"black\" points=\"162,-141 73,-141 73,-122 162,-122 162,-141\"/>\n<text text-anchor=\"middle\" x=\"117.5\" y=\"-129\" font-family=\"monospace\" font-size=\"10.00\">MulBackward0</text>\n</g>\n<!-- 138254382233728&#45;&gt;138254382221824 -->\n<g id=\"edge1\" class=\"edge\">\n<title>138254382233728&#45;&gt;138254382221824</title>\n<path fill=\"none\" stroke=\"black\" d=\"M126.25,-121.75C133.97,-114.03 145.4,-102.6 154.72,-93.28\"/>\n<polygon fill=\"black\" stroke=\"black\" points=\"157.31,-95.64 161.91,-86.09 152.36,-90.69 157.31,-95.64\"/>\n</g>\n<!-- 138254359143536 -->\n<g id=\"node4\" class=\"node\">\n<title>138254359143536</title>\n<polygon fill=\"lightgrey\" stroke=\"black\" points=\"89,-196 0,-196 0,-177 89,-177 89,-196\"/>\n<text text-anchor=\"middle\" x=\"44.5\" y=\"-184\" font-family=\"monospace\" font-size=\"10.00\">LogBackward0</text>\n</g>\n<!-- 138254359143536&#45;&gt;138254382233728 -->\n<g id=\"edge2\" class=\"edge\">\n<title>138254359143536&#45;&gt;138254382233728</title>\n<path fill=\"none\" stroke=\"black\" d=\"M56.23,-176.98C67.23,-169 83.92,-156.88 97.1,-147.31\"/>\n<polygon fill=\"black\" stroke=\"black\" points=\"99.52,-149.88 105.56,-141.17 95.41,-144.21 99.52,-149.88\"/>\n</g>\n<!-- 138254360649808 -->\n<g id=\"node5\" class=\"node\">\n<title>138254360649808</title>\n<polygon fill=\"lightgrey\" stroke=\"black\" points=\"106,-251 17,-251 17,-232 106,-232 106,-251\"/>\n<text text-anchor=\"middle\" x=\"61.5\" y=\"-239\" font-family=\"monospace\" font-size=\"10.00\">PowBackward0</text>\n</g>\n<!-- 138254360649808&#45;&gt;138254359143536 -->\n<g id=\"edge3\" class=\"edge\">\n<title>138254360649808&#45;&gt;138254359143536</title>\n<path fill=\"none\" stroke=\"black\" d=\"M58.69,-231.75C56.44,-224.72 53.2,-214.62 50.38,-205.84\"/>\n<polygon fill=\"black\" stroke=\"black\" points=\"53.64,-204.54 47.25,-196.09 46.98,-206.68 53.64,-204.54\"/>\n</g>\n<!-- 138254358367776 -->\n<g id=\"node6\" class=\"node\">\n<title>138254358367776</title>\n<polygon fill=\"lightgrey\" stroke=\"black\" points=\"202,-306 101,-306 101,-287 202,-287 202,-306\"/>\n<text text-anchor=\"middle\" x=\"151.5\" y=\"-294\" font-family=\"monospace\" font-size=\"10.00\">AccumulateGrad</text>\n</g>\n<!-- 138254358367776&#45;&gt;138254360649808 -->\n<g id=\"edge4\" class=\"edge\">\n<title>138254358367776&#45;&gt;138254360649808</title>\n<path fill=\"none\" stroke=\"black\" d=\"M137.04,-286.98C123.08,-278.77 101.71,-266.18 85.25,-256.49\"/>\n<polygon fill=\"black\" stroke=\"black\" points=\"86.62,-253.23 76.22,-251.17 83.06,-259.26 86.62,-253.23\"/>\n</g>\n<!-- 138254359134320 -->\n<g id=\"node8\" class=\"node\">\n<title>138254359134320</title>\n<polygon fill=\"lightgrey\" stroke=\"black\" points=\"196,-196 107,-196 107,-177 196,-177 196,-196\"/>\n<text text-anchor=\"middle\" x=\"151.5\" y=\"-184\" font-family=\"monospace\" font-size=\"10.00\">SinBackward0</text>\n</g>\n<!-- 138254358367776&#45;&gt;138254359134320 -->\n<g id=\"edge7\" class=\"edge\">\n<title>138254358367776&#45;&gt;138254359134320</title>\n<path fill=\"none\" stroke=\"black\" d=\"M151.5,-286.66C151.5,-269.17 151.5,-229.8 151.5,-206.27\"/>\n<polygon fill=\"black\" stroke=\"black\" points=\"155,-206.16 151.5,-196.16 148,-206.16 155,-206.16\"/>\n</g>\n<!-- 138254359136480 -->\n<g id=\"node9\" class=\"node\">\n<title>138254359136480</title>\n<polygon fill=\"lightgrey\" stroke=\"black\" points=\"269,-141 180,-141 180,-122 269,-122 269,-141\"/>\n<text text-anchor=\"middle\" x=\"224.5\" y=\"-129\" font-family=\"monospace\" font-size=\"10.00\">PowBackward0</text>\n</g>\n<!-- 138254358367776&#45;&gt;138254359136480 -->\n<g id=\"edge9\" class=\"edge\">\n<title>138254358367776&#45;&gt;138254359136480</title>\n<path fill=\"none\" stroke=\"black\" d=\"M156.74,-286.98C166.95,-270.1 189.81,-231.01 204.5,-196 210.66,-181.33 215.98,-164.07 219.58,-151.25\"/>\n<polygon fill=\"black\" stroke=\"black\" points=\"223.03,-151.88 222.28,-141.31 216.28,-150.04 223.03,-151.88\"/>\n</g>\n<!-- 138254357909968 -->\n<g id=\"node7\" class=\"node\">\n<title>138254357909968</title>\n<polygon fill=\"lightblue\" stroke=\"black\" points=\"178.5,-372 124.5,-372 124.5,-342 178.5,-342 178.5,-372\"/>\n<text text-anchor=\"middle\" x=\"151.5\" y=\"-360\" font-family=\"monospace\" font-size=\"10.00\">x</text>\n<text text-anchor=\"middle\" x=\"151.5\" y=\"-349\" font-family=\"monospace\" font-size=\"10.00\"> ()</text>\n</g>\n<!-- 138254357909968&#45;&gt;138254358367776 -->\n<g id=\"edge5\" class=\"edge\">\n<title>138254357909968&#45;&gt;138254358367776</title>\n<path fill=\"none\" stroke=\"black\" d=\"M151.5,-341.84C151.5,-334.21 151.5,-324.7 151.5,-316.45\"/>\n<polygon fill=\"black\" stroke=\"black\" points=\"155,-316.27 151.5,-306.27 148,-316.27 155,-316.27\"/>\n</g>\n<!-- 138254359134320&#45;&gt;138254382233728 -->\n<g id=\"edge6\" class=\"edge\">\n<title>138254359134320&#45;&gt;138254382233728</title>\n<path fill=\"none\" stroke=\"black\" d=\"M145.89,-176.75C141.18,-169.42 134.33,-158.73 128.53,-149.7\"/>\n<polygon fill=\"black\" stroke=\"black\" points=\"131.36,-147.62 123.01,-141.09 125.46,-151.4 131.36,-147.62\"/>\n</g>\n<!-- 138254359136480&#45;&gt;138254382221824 -->\n<g id=\"edge8\" class=\"edge\">\n<title>138254359136480&#45;&gt;138254382221824</title>\n<path fill=\"none\" stroke=\"black\" d=\"M215.58,-121.75C207.72,-114.03 196.07,-102.6 186.58,-93.28\"/>\n<polygon fill=\"black\" stroke=\"black\" points=\"188.84,-90.6 179.25,-86.09 183.94,-95.59 188.84,-90.6\"/>\n</g>\n</g>\n</svg>\n",
            "text/plain": [
              "<graphviz.graphs.Digraph at 0x7dbddb574e30>"
            ]
          },
          "metadata": {},
          "execution_count": 35
        }
      ]
    },
    {
      "cell_type": "code",
      "source": [
        "x = torch.tensor(1.0, requires_grad=True)\n",
        "\n",
        "# Define the function f(x) = ((log x^2) * sin x) + x^-1\n",
        "# Break it down into intermediate steps for clarity\n",
        "f_x = (torch.log(x**2) * torch.sin(x)) + (1 / x)\n",
        "# u = x**2\n",
        "# v = torch.log(u)\n",
        "# w = torch.sin(x)\n",
        "# p = v * w\n",
        "# q = x**(-1)\n",
        "# f_x = p + q\n",
        "\n",
        "# Visualize the computational graph\n",
        "make_dot(f_x, params={'x': x})"
      ],
      "metadata": {
        "colab": {
          "base_uri": "https://localhost:8080/",
          "height": 529
        },
        "id": "1qSdWEIeIDLp",
        "outputId": "d159325e-edcc-493a-82af-af4eecba1ae2"
      },
      "id": "1qSdWEIeIDLp",
      "execution_count": 39,
      "outputs": [
        {
          "output_type": "execute_result",
          "data": {
            "image/svg+xml": "<?xml version=\"1.0\" encoding=\"UTF-8\" standalone=\"no\"?>\n<!DOCTYPE svg PUBLIC \"-//W3C//DTD SVG 1.1//EN\"\n \"http://www.w3.org/Graphics/SVG/1.1/DTD/svg11.dtd\">\n<!-- Generated by graphviz version 2.43.0 (0)\n -->\n<!-- Title: %3 Pages: 1 -->\n<svg width=\"308pt\" height=\"380pt\"\n viewBox=\"0.00 0.00 308.00 380.00\" xmlns=\"http://www.w3.org/2000/svg\" xmlns:xlink=\"http://www.w3.org/1999/xlink\">\n<g id=\"graph0\" class=\"graph\" transform=\"scale(1 1) rotate(0) translate(4 376)\">\n<title>%3</title>\n<polygon fill=\"white\" stroke=\"transparent\" points=\"-4,4 -4,-376 304,-376 304,4 -4,4\"/>\n<!-- 138254357920608 -->\n<g id=\"node1\" class=\"node\">\n<title>138254357920608</title>\n<polygon fill=\"#caff70\" stroke=\"black\" points=\"207.5,-31 153.5,-31 153.5,0 207.5,0 207.5,-31\"/>\n<text text-anchor=\"middle\" x=\"180.5\" y=\"-7\" font-family=\"monospace\" font-size=\"10.00\"> ()</text>\n</g>\n<!-- 138254371218592 -->\n<g id=\"node2\" class=\"node\">\n<title>138254371218592</title>\n<polygon fill=\"lightgrey\" stroke=\"black\" points=\"225,-86 136,-86 136,-67 225,-67 225,-86\"/>\n<text text-anchor=\"middle\" x=\"180.5\" y=\"-74\" font-family=\"monospace\" font-size=\"10.00\">AddBackward0</text>\n</g>\n<!-- 138254371218592&#45;&gt;138254357920608 -->\n<g id=\"edge11\" class=\"edge\">\n<title>138254371218592&#45;&gt;138254357920608</title>\n<path fill=\"none\" stroke=\"black\" d=\"M180.5,-66.79C180.5,-60.07 180.5,-50.4 180.5,-41.34\"/>\n<polygon fill=\"black\" stroke=\"black\" points=\"184,-41.19 180.5,-31.19 177,-41.19 184,-41.19\"/>\n</g>\n<!-- 138254358545312 -->\n<g id=\"node3\" class=\"node\">\n<title>138254358545312</title>\n<polygon fill=\"lightgrey\" stroke=\"black\" points=\"172,-141 83,-141 83,-122 172,-122 172,-141\"/>\n<text text-anchor=\"middle\" x=\"127.5\" y=\"-129\" font-family=\"monospace\" font-size=\"10.00\">MulBackward0</text>\n</g>\n<!-- 138254358545312&#45;&gt;138254371218592 -->\n<g id=\"edge1\" class=\"edge\">\n<title>138254358545312&#45;&gt;138254371218592</title>\n<path fill=\"none\" stroke=\"black\" d=\"M136.25,-121.75C143.97,-114.03 155.4,-102.6 164.72,-93.28\"/>\n<polygon fill=\"black\" stroke=\"black\" points=\"167.31,-95.64 171.91,-86.09 162.36,-90.69 167.31,-95.64\"/>\n</g>\n<!-- 138254360654416 -->\n<g id=\"node4\" class=\"node\">\n<title>138254360654416</title>\n<polygon fill=\"lightgrey\" stroke=\"black\" points=\"89,-196 0,-196 0,-177 89,-177 89,-196\"/>\n<text text-anchor=\"middle\" x=\"44.5\" y=\"-184\" font-family=\"monospace\" font-size=\"10.00\">LogBackward0</text>\n</g>\n<!-- 138254360654416&#45;&gt;138254358545312 -->\n<g id=\"edge2\" class=\"edge\">\n<title>138254360654416&#45;&gt;138254358545312</title>\n<path fill=\"none\" stroke=\"black\" d=\"M57.84,-176.98C70.59,-168.84 90.05,-156.41 105.17,-146.76\"/>\n<polygon fill=\"black\" stroke=\"black\" points=\"107.38,-149.5 113.92,-141.17 103.61,-143.6 107.38,-149.5\"/>\n</g>\n<!-- 138254358413376 -->\n<g id=\"node5\" class=\"node\">\n<title>138254358413376</title>\n<polygon fill=\"lightgrey\" stroke=\"black\" points=\"101,-251 12,-251 12,-232 101,-232 101,-251\"/>\n<text text-anchor=\"middle\" x=\"56.5\" y=\"-239\" font-family=\"monospace\" font-size=\"10.00\">PowBackward0</text>\n</g>\n<!-- 138254358413376&#45;&gt;138254360654416 -->\n<g id=\"edge3\" class=\"edge\">\n<title>138254358413376&#45;&gt;138254360654416</title>\n<path fill=\"none\" stroke=\"black\" d=\"M54.52,-231.75C52.93,-224.72 50.64,-214.62 48.65,-205.84\"/>\n<polygon fill=\"black\" stroke=\"black\" points=\"52.07,-205.07 46.44,-196.09 45.24,-206.62 52.07,-205.07\"/>\n</g>\n<!-- 138254358424800 -->\n<g id=\"node6\" class=\"node\">\n<title>138254358424800</title>\n<polygon fill=\"lightgrey\" stroke=\"black\" points=\"191,-306 90,-306 90,-287 191,-287 191,-306\"/>\n<text text-anchor=\"middle\" x=\"140.5\" y=\"-294\" font-family=\"monospace\" font-size=\"10.00\">AccumulateGrad</text>\n</g>\n<!-- 138254358424800&#45;&gt;138254358413376 -->\n<g id=\"edge4\" class=\"edge\">\n<title>138254358424800&#45;&gt;138254358413376</title>\n<path fill=\"none\" stroke=\"black\" d=\"M127,-286.98C114.1,-278.84 94.4,-266.41 79.1,-256.76\"/>\n<polygon fill=\"black\" stroke=\"black\" points=\"80.57,-253.55 70.24,-251.17 76.83,-259.47 80.57,-253.55\"/>\n</g>\n<!-- 138254360656624 -->\n<g id=\"node8\" class=\"node\">\n<title>138254360656624</title>\n<polygon fill=\"lightgrey\" stroke=\"black\" points=\"196,-196 107,-196 107,-177 196,-177 196,-196\"/>\n<text text-anchor=\"middle\" x=\"151.5\" y=\"-184\" font-family=\"monospace\" font-size=\"10.00\">SinBackward0</text>\n</g>\n<!-- 138254358424800&#45;&gt;138254360656624 -->\n<g id=\"edge7\" class=\"edge\">\n<title>138254358424800&#45;&gt;138254360656624</title>\n<path fill=\"none\" stroke=\"black\" d=\"M141.4,-286.66C143.18,-269.17 147.19,-229.8 149.59,-206.27\"/>\n<polygon fill=\"black\" stroke=\"black\" points=\"153.09,-206.46 150.62,-196.16 146.12,-205.75 153.09,-206.46\"/>\n</g>\n<!-- 138254358428064 -->\n<g id=\"node10\" class=\"node\">\n<title>138254358428064</title>\n<polygon fill=\"lightgrey\" stroke=\"black\" points=\"300,-251 169,-251 169,-232 300,-232 300,-251\"/>\n<text text-anchor=\"middle\" x=\"234.5\" y=\"-239\" font-family=\"monospace\" font-size=\"10.00\">ReciprocalBackward0</text>\n</g>\n<!-- 138254358424800&#45;&gt;138254358428064 -->\n<g id=\"edge10\" class=\"edge\">\n<title>138254358424800&#45;&gt;138254358428064</title>\n<path fill=\"none\" stroke=\"black\" d=\"M155.6,-286.98C170.32,-278.69 192.92,-265.94 210.17,-256.22\"/>\n<polygon fill=\"black\" stroke=\"black\" points=\"212.13,-259.13 219.12,-251.17 208.69,-253.03 212.13,-259.13\"/>\n</g>\n<!-- 138254357915968 -->\n<g id=\"node7\" class=\"node\">\n<title>138254357915968</title>\n<polygon fill=\"lightblue\" stroke=\"black\" points=\"167.5,-372 113.5,-372 113.5,-342 167.5,-342 167.5,-372\"/>\n<text text-anchor=\"middle\" x=\"140.5\" y=\"-360\" font-family=\"monospace\" font-size=\"10.00\">x</text>\n<text text-anchor=\"middle\" x=\"140.5\" y=\"-349\" font-family=\"monospace\" font-size=\"10.00\"> ()</text>\n</g>\n<!-- 138254357915968&#45;&gt;138254358424800 -->\n<g id=\"edge5\" class=\"edge\">\n<title>138254357915968&#45;&gt;138254358424800</title>\n<path fill=\"none\" stroke=\"black\" d=\"M140.5,-341.84C140.5,-334.21 140.5,-324.7 140.5,-316.45\"/>\n<polygon fill=\"black\" stroke=\"black\" points=\"144,-316.27 140.5,-306.27 137,-316.27 144,-316.27\"/>\n</g>\n<!-- 138254360656624&#45;&gt;138254358545312 -->\n<g id=\"edge6\" class=\"edge\">\n<title>138254360656624&#45;&gt;138254358545312</title>\n<path fill=\"none\" stroke=\"black\" d=\"M147.54,-176.75C144.29,-169.57 139.58,-159.18 135.55,-150.27\"/>\n<polygon fill=\"black\" stroke=\"black\" points=\"138.7,-148.75 131.39,-141.09 132.33,-151.64 138.7,-148.75\"/>\n</g>\n<!-- 138254358552896 -->\n<g id=\"node9\" class=\"node\">\n<title>138254358552896</title>\n<polygon fill=\"lightgrey\" stroke=\"black\" points=\"279,-141 190,-141 190,-122 279,-122 279,-141\"/>\n<text text-anchor=\"middle\" x=\"234.5\" y=\"-129\" font-family=\"monospace\" font-size=\"10.00\">MulBackward0</text>\n</g>\n<!-- 138254358552896&#45;&gt;138254371218592 -->\n<g id=\"edge8\" class=\"edge\">\n<title>138254358552896&#45;&gt;138254371218592</title>\n<path fill=\"none\" stroke=\"black\" d=\"M225.58,-121.75C217.72,-114.03 206.07,-102.6 196.58,-93.28\"/>\n<polygon fill=\"black\" stroke=\"black\" points=\"198.84,-90.6 189.25,-86.09 193.94,-95.59 198.84,-90.6\"/>\n</g>\n<!-- 138254358428064&#45;&gt;138254358552896 -->\n<g id=\"edge9\" class=\"edge\">\n<title>138254358428064&#45;&gt;138254358552896</title>\n<path fill=\"none\" stroke=\"black\" d=\"M234.5,-231.66C234.5,-214.17 234.5,-174.8 234.5,-151.27\"/>\n<polygon fill=\"black\" stroke=\"black\" points=\"238,-151.16 234.5,-141.16 231,-151.16 238,-151.16\"/>\n</g>\n</g>\n</svg>\n",
            "text/plain": [
              "<graphviz.graphs.Digraph at 0x7dbddbe6caa0>"
            ]
          },
          "metadata": {},
          "execution_count": 39
        }
      ]
    },
    {
      "cell_type": "markdown",
      "source": [
        "### 1. Use the chain rule to compute the derivative $\\frac{df}{dx}$ of the aforementioned function, placing each term on the dependency graph that you constructed previously.\n"
      ],
      "metadata": {
        "id": "HrK2JXAc-txT"
      },
      "id": "HrK2JXAc-txT"
    },
    {
      "cell_type": "markdown",
      "source": [
        "### 1. Given the graph and the intermediate derivative results, you have a number of options when computing the gradient. Evaluate the result once starting from $x$ to $f$ and once from $f$ tracing back to $x$. The path from $x$ to $f$ is commonly known as *forward differentiation*, whereas the path from $f$ to $x$ is known as backward differentiation.\n"
      ],
      "metadata": {
        "id": "VgCCo43e-tv0"
      },
      "id": "VgCCo43e-tv0"
    },
    {
      "cell_type": "markdown",
      "source": [
        "### 1. When might you want to use forward, and when backward, differentiation? Hint: consider the amount of intermediate data needed, the ability to parallelize steps, and the size of matrices and vectors involved.\n"
      ],
      "metadata": {
        "id": "XsJAW72F-trv"
      },
      "id": "XsJAW72F-trv"
    },
    {
      "cell_type": "markdown",
      "id": "4c0ab97d",
      "metadata": {
        "origin_pos": 75,
        "tab": [
          "pytorch"
        ],
        "id": "4c0ab97d"
      },
      "source": [
        "[Discussions](https://discuss.d2l.ai/t/35)\n"
      ]
    }
  ],
  "metadata": {
    "kernelspec": {
      "display_name": "Python 3",
      "name": "python3"
    },
    "language_info": {
      "name": "python"
    },
    "required_libs": [],
    "colab": {
      "provenance": [],
      "include_colab_link": true
    }
  },
  "nbformat": 4,
  "nbformat_minor": 5
}